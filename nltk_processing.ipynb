{
 "cells": [
  {
   "cell_type": "markdown",
   "metadata": {},
   "source": [
    "Notebook outlining what functions from nltk will be useful for pre-processing the text and training the classification algorithm.\n",
    "\n",
    "Expects a CSV file in the current directory containing a release's date, text, and classification (pos or neg) in each row."
   ]
  },
  {
   "cell_type": "code",
   "execution_count": 13,
   "metadata": {},
   "outputs": [],
   "source": [
    "import math\n",
    "import pandas as pd\n",
    "import nltk\n",
    "import re\n",
    "import numpy as np\n",
    "import matplotlib.pyplot as plt\n",
    "\n",
    "import sklearn\n",
    "import sklearn.naive_bayes\n",
    "import sklearn.tree\n",
    "import sklearn.ensemble\n",
    "import sklearn.neural_network\n",
    "import sklearn.decomposition\n",
    "\n",
    "from sklearn import decomposition, linear_model\n",
    "from sklearn.model_selection import train_test_split\n",
    "from sklearn.metrics import confusion_matrix, classification_report"
   ]
  },
  {
   "cell_type": "markdown",
   "metadata": {},
   "source": [
    "Some pre-processing to get the dataframe into the format we need for content analysis:"
   ]
  },
  {
   "cell_type": "markdown",
   "metadata": {},
   "source": [
    "`allreleasescleaned.csv` contains all press releases from 1994 to 2018."
   ]
  },
  {
   "cell_type": "code",
   "execution_count": 156,
   "metadata": {
    "collapsed": true
   },
   "outputs": [],
   "source": [
    "histreleasesdf = pd.read_csv('allreleasescleaned.csv', index_col=0)"
   ]
  },
  {
   "cell_type": "code",
   "execution_count": 158,
   "metadata": {},
   "outputs": [
    {
     "data": {
      "text/html": [
       "<div>\n",
       "<style scoped>\n",
       "    .dataframe tbody tr th:only-of-type {\n",
       "        vertical-align: middle;\n",
       "    }\n",
       "\n",
       "    .dataframe tbody tr th {\n",
       "        vertical-align: top;\n",
       "    }\n",
       "\n",
       "    .dataframe thead th {\n",
       "        text-align: right;\n",
       "    }\n",
       "</style>\n",
       "<table border=\"1\" class=\"dataframe\">\n",
       "  <thead>\n",
       "    <tr style=\"text-align: right;\">\n",
       "      <th></th>\n",
       "      <th>date</th>\n",
       "      <th>release_text</th>\n",
       "      <th>year</th>\n",
       "      <th>month</th>\n",
       "    </tr>\n",
       "  </thead>\n",
       "  <tbody>\n",
       "    <tr>\n",
       "      <th>0</th>\n",
       "      <td>November 15, 1994</td>\n",
       "      <td>The Federal Reserve Board today approved an in...</td>\n",
       "      <td>1994</td>\n",
       "      <td>November</td>\n",
       "    </tr>\n",
       "    <tr>\n",
       "      <th>1</th>\n",
       "      <td>August 16, 1994</td>\n",
       "      <td>The Federal Reserve announced today the follow...</td>\n",
       "      <td>1994</td>\n",
       "      <td>August</td>\n",
       "    </tr>\n",
       "    <tr>\n",
       "      <th>2</th>\n",
       "      <td>May 17, 1994</td>\n",
       "      <td>The Federal Reserve today announced two action...</td>\n",
       "      <td>1994</td>\n",
       "      <td>May</td>\n",
       "    </tr>\n",
       "    <tr>\n",
       "      <th>3</th>\n",
       "      <td>April 18, 1994</td>\n",
       "      <td>Chairman Alan Greenspan announced today that t...</td>\n",
       "      <td>1994</td>\n",
       "      <td>April</td>\n",
       "    </tr>\n",
       "    <tr>\n",
       "      <th>4</th>\n",
       "      <td>March 22, 1994</td>\n",
       "      <td>Chairman Alan Greenspan announced today that ...</td>\n",
       "      <td>1994</td>\n",
       "      <td>March</td>\n",
       "    </tr>\n",
       "  </tbody>\n",
       "</table>\n",
       "</div>"
      ],
      "text/plain": [
       "                date                                       release_text  year  \\\n",
       "0  November 15, 1994  The Federal Reserve Board today approved an in...  1994   \n",
       "1    August 16, 1994  The Federal Reserve announced today the follow...  1994   \n",
       "2       May 17, 1994  The Federal Reserve today announced two action...  1994   \n",
       "3     April 18, 1994  Chairman Alan Greenspan announced today that t...  1994   \n",
       "4     March 22, 1994   Chairman Alan Greenspan announced today that ...  1994   \n",
       "\n",
       "      month  \n",
       "0  November  \n",
       "1    August  \n",
       "2       May  \n",
       "3     April  \n",
       "4     March  "
      ]
     },
     "execution_count": 158,
     "metadata": {},
     "output_type": "execute_result"
    }
   ],
   "source": [
    "histreleasesdf.head()"
   ]
  },
  {
   "cell_type": "markdown",
   "metadata": {},
   "source": [
    "`allratesdf.csv` contains cleaned DataFrame of all relevant rate changes from 1994."
   ]
  },
  {
   "cell_type": "code",
   "execution_count": 162,
   "metadata": {
    "collapsed": true
   },
   "outputs": [],
   "source": [
    "allratesdf = pd.read_csv('allratesdf.csv', index_col=0)"
   ]
  },
  {
   "cell_type": "code",
   "execution_count": 166,
   "metadata": {},
   "outputs": [
    {
     "data": {
      "text/html": [
       "<div>\n",
       "<style scoped>\n",
       "    .dataframe tbody tr th:only-of-type {\n",
       "        vertical-align: middle;\n",
       "    }\n",
       "\n",
       "    .dataframe tbody tr th {\n",
       "        vertical-align: top;\n",
       "    }\n",
       "\n",
       "    .dataframe thead th {\n",
       "        text-align: right;\n",
       "    }\n",
       "</style>\n",
       "<table border=\"1\" class=\"dataframe\">\n",
       "  <thead>\n",
       "    <tr style=\"text-align: right;\">\n",
       "      <th></th>\n",
       "      <th>month</th>\n",
       "      <th>year</th>\n",
       "      <th>Change</th>\n",
       "      <th>increase</th>\n",
       "    </tr>\n",
       "  </thead>\n",
       "  <tbody>\n",
       "    <tr>\n",
       "      <th>0</th>\n",
       "      <td>February</td>\n",
       "      <td>1994</td>\n",
       "      <td>0.07</td>\n",
       "      <td>True</td>\n",
       "    </tr>\n",
       "    <tr>\n",
       "      <th>1</th>\n",
       "      <td>March</td>\n",
       "      <td>1994</td>\n",
       "      <td>0.03</td>\n",
       "      <td>True</td>\n",
       "    </tr>\n",
       "    <tr>\n",
       "      <th>2</th>\n",
       "      <td>April</td>\n",
       "      <td>1994</td>\n",
       "      <td>0.07</td>\n",
       "      <td>True</td>\n",
       "    </tr>\n",
       "    <tr>\n",
       "      <th>3</th>\n",
       "      <td>May</td>\n",
       "      <td>1994</td>\n",
       "      <td>0.13</td>\n",
       "      <td>True</td>\n",
       "    </tr>\n",
       "    <tr>\n",
       "      <th>4</th>\n",
       "      <td>June</td>\n",
       "      <td>1994</td>\n",
       "      <td>0.06</td>\n",
       "      <td>True</td>\n",
       "    </tr>\n",
       "  </tbody>\n",
       "</table>\n",
       "</div>"
      ],
      "text/plain": [
       "      month  year  Change  increase\n",
       "0  February  1994    0.07      True\n",
       "1     March  1994    0.03      True\n",
       "2     April  1994    0.07      True\n",
       "3       May  1994    0.13      True\n",
       "4      June  1994    0.06      True"
      ]
     },
     "execution_count": 166,
     "metadata": {},
     "output_type": "execute_result"
    }
   ],
   "source": [
    "allratesdf.head()"
   ]
  },
  {
   "cell_type": "markdown",
   "metadata": {},
   "source": [
    "Now, to merge the text and rates DataFrames and clean the result. `allreleaserates.csv` has all rate changes since 1994 and their associated release text."
   ]
  },
  {
   "cell_type": "markdown",
   "metadata": {},
   "source": [
    "Now text processing using `nltk`."
   ]
  },
  {
   "cell_type": "code",
   "execution_count": 194,
   "metadata": {
    "collapsed": true
   },
   "outputs": [],
   "source": [
    "releaserates_df = pd.read_csv('allreleaserates.csv', index_col=0)"
   ]
  },
  {
   "cell_type": "code",
   "execution_count": 195,
   "metadata": {},
   "outputs": [
    {
     "data": {
      "text/html": [
       "<div>\n",
       "<style scoped>\n",
       "    .dataframe tbody tr th:only-of-type {\n",
       "        vertical-align: middle;\n",
       "    }\n",
       "\n",
       "    .dataframe tbody tr th {\n",
       "        vertical-align: top;\n",
       "    }\n",
       "\n",
       "    .dataframe thead th {\n",
       "        text-align: right;\n",
       "    }\n",
       "</style>\n",
       "<table border=\"1\" class=\"dataframe\">\n",
       "  <thead>\n",
       "    <tr style=\"text-align: right;\">\n",
       "      <th></th>\n",
       "      <th>month</th>\n",
       "      <th>year</th>\n",
       "      <th>Change</th>\n",
       "      <th>increase</th>\n",
       "      <th>date</th>\n",
       "      <th>release_text</th>\n",
       "    </tr>\n",
       "  </thead>\n",
       "  <tbody>\n",
       "    <tr>\n",
       "      <th>0</th>\n",
       "      <td>February</td>\n",
       "      <td>1994</td>\n",
       "      <td>0.07</td>\n",
       "      <td>True</td>\n",
       "      <td>February 4, 1994</td>\n",
       "      <td>Chairman Alan Greenspan announced today that t...</td>\n",
       "    </tr>\n",
       "    <tr>\n",
       "      <th>1</th>\n",
       "      <td>March</td>\n",
       "      <td>1994</td>\n",
       "      <td>0.03</td>\n",
       "      <td>True</td>\n",
       "      <td>March 22, 1994</td>\n",
       "      <td>Chairman Alan Greenspan announced today that ...</td>\n",
       "    </tr>\n",
       "    <tr>\n",
       "      <th>2</th>\n",
       "      <td>April</td>\n",
       "      <td>1994</td>\n",
       "      <td>0.07</td>\n",
       "      <td>True</td>\n",
       "      <td>April 18, 1994</td>\n",
       "      <td>Chairman Alan Greenspan announced today that t...</td>\n",
       "    </tr>\n",
       "    <tr>\n",
       "      <th>3</th>\n",
       "      <td>May</td>\n",
       "      <td>1994</td>\n",
       "      <td>0.13</td>\n",
       "      <td>True</td>\n",
       "      <td>May 17, 1994</td>\n",
       "      <td>The Federal Reserve today announced two action...</td>\n",
       "    </tr>\n",
       "    <tr>\n",
       "      <th>4</th>\n",
       "      <td>June</td>\n",
       "      <td>1994</td>\n",
       "      <td>0.06</td>\n",
       "      <td>True</td>\n",
       "      <td>May 17, 1994</td>\n",
       "      <td>The Federal Reserve today announced two action...</td>\n",
       "    </tr>\n",
       "  </tbody>\n",
       "</table>\n",
       "</div>"
      ],
      "text/plain": [
       "      month  year  Change  increase              date  \\\n",
       "0  February  1994    0.07      True  February 4, 1994   \n",
       "1     March  1994    0.03      True    March 22, 1994   \n",
       "2     April  1994    0.07      True    April 18, 1994   \n",
       "3       May  1994    0.13      True      May 17, 1994   \n",
       "4      June  1994    0.06      True      May 17, 1994   \n",
       "\n",
       "                                        release_text  \n",
       "0  Chairman Alan Greenspan announced today that t...  \n",
       "1   Chairman Alan Greenspan announced today that ...  \n",
       "2  Chairman Alan Greenspan announced today that t...  \n",
       "3  The Federal Reserve today announced two action...  \n",
       "4  The Federal Reserve today announced two action...  "
      ]
     },
     "execution_count": 195,
     "metadata": {},
     "output_type": "execute_result"
    }
   ],
   "source": [
    "releaserates_df.head()"
   ]
  },
  {
   "cell_type": "markdown",
   "metadata": {},
   "source": [
    "### LOGISTIC REGRESSION"
   ]
  },
  {
   "cell_type": "markdown",
   "metadata": {},
   "source": [
    "First, we try a Logistic Regression using PCA on tf-idf vectors."
   ]
  },
  {
   "cell_type": "code",
   "execution_count": 196,
   "metadata": {
    "collapsed": true
   },
   "outputs": [],
   "source": [
    "x_train, x_test, y_train, y_test = train_test_split(releaserates_df['release_text'], releaserates_df['increase'], test_size = .30, random_state = 42)"
   ]
  },
  {
   "cell_type": "code",
   "execution_count": 197,
   "metadata": {
    "collapsed": true
   },
   "outputs": [],
   "source": [
    "releaseTFVectorizer = sklearn.feature_extraction.text.TfidfVectorizer(max_df=0.5, min_df=3, stop_words='english', norm='l2')"
   ]
  },
  {
   "cell_type": "code",
   "execution_count": 198,
   "metadata": {
    "collapsed": true
   },
   "outputs": [],
   "source": [
    "releaseTFVects = releaseTFVectorizer.fit_transform(x_train)"
   ]
  },
  {
   "cell_type": "markdown",
   "metadata": {},
   "source": [
    "If interested in the scores assigned to words:"
   ]
  },
  {
   "cell_type": "code",
   "execution_count": 187,
   "metadata": {
    "collapsed": true
   },
   "outputs": [],
   "source": [
    "#sorted(list(zip(releaseTFVectorizer.vocabulary_.keys(), releaseTFVects.data)), key=lambda x: x[1], reverse=True)"
   ]
  },
  {
   "cell_type": "code",
   "execution_count": 199,
   "metadata": {
    "collapsed": true
   },
   "outputs": [],
   "source": [
    "PCA = decomposition.PCA\n",
    "pca = PCA().fit(releaseTFVects.toarray())\n",
    "reduced_data = pca.transform(releaseTFVects.toarray())"
   ]
  },
  {
   "cell_type": "markdown",
   "metadata": {},
   "source": [
    "A Scree Plot indicating the proportion of variance explained by the first $x$ principal components."
   ]
  },
  {
   "cell_type": "code",
   "execution_count": 200,
   "metadata": {},
   "outputs": [
    {
     "data": {
      "image/png": "[encoded data removed]",
      "text/plain": [
       "<matplotlib.figure.Figure at 0x115e4f668>"
      ]
     },
     "metadata": {},
     "output_type": "display_data"
    }
   ],
   "source": [
    "n = releaseTFVects.shape[0]\n",
    "fig = plt.figure(figsize=(12,5))\n",
    "ax1 = fig.add_subplot(121)\n",
    "eigen_vals = np.arange(n) + 1\n",
    "ax1.plot(eigen_vals, pca.explained_variance_ratio_, 'ro-', linewidth=2)\n",
    "ax1.set_title('Scree Plot')\n",
    "ax1.set_xlabel('Principal Component')\n",
    "ax1.set_ylabel('Proportion of Explained Variance')\n",
    "\n",
    "ax2 = fig.add_subplot(122)\n",
    "eigen_vals = np.arange(20) + 1\n",
    "ax2.plot(eigen_vals, pca.explained_variance_ratio_[:20], 'ro-', linewidth=2)\n",
    "ax2.set_title('Scree Plot (First 20 Principal Components)')\n",
    "ax2.set_xlabel('Principal Component')\n",
    "ax2.set_ylabel('Proportion of Explained Variance')\n",
    "plt.show()"
   ]
  },
  {
   "cell_type": "markdown",
   "metadata": {},
   "source": [
    "We'll first try a Logistic Regression using the first 10 principal components as regressors."
   ]
  },
  {
   "cell_type": "code",
   "execution_count": 201,
   "metadata": {
    "collapsed": true
   },
   "outputs": [],
   "source": [
    "X = reduced_data[:, :10]\n",
    "Y = np.array([int(label) for label in y_train])"
   ]
  },
  {
   "cell_type": "code",
   "execution_count": 202,
   "metadata": {},
   "outputs": [
    {
     "data": {
      "text/plain": [
       "LogisticRegression(C=1.0, class_weight=None, dual=False, fit_intercept=True,\n",
       "          intercept_scaling=1, max_iter=100, multi_class='ovr', n_jobs=1,\n",
       "          penalty='l2', random_state=None, solver='liblinear', tol=0.0001,\n",
       "          verbose=0, warm_start=False)"
      ]
     },
     "execution_count": 202,
     "metadata": {},
     "output_type": "execute_result"
    }
   ],
   "source": [
    "logistic = linear_model.LogisticRegression()\n",
    "logistic.fit(X, Y)"
   ]
  },
  {
   "cell_type": "code",
   "execution_count": 203,
   "metadata": {},
   "outputs": [
    {
     "name": "stdout",
     "output_type": "stream",
     "text": [
      "For training set: 0.6536585365853659\n"
     ]
    }
   ],
   "source": [
    "print('For training set: {}'.format(logistic.score(X,Y)))"
   ]
  },
  {
   "cell_type": "code",
   "execution_count": 204,
   "metadata": {},
   "outputs": [
    {
     "name": "stdout",
     "output_type": "stream",
     "text": [
      "For testing set: 0.550561797752809\n"
     ]
    }
   ],
   "source": [
    "releaseTFVects_test = releaseTFVectorizer.transform(x_test)\n",
    "reduced_data_test = pca.transform(releaseTFVects_test.toarray())\n",
    "X_test = reduced_data_test[:, :10]\n",
    "Y_test = np.array([int(label) for label in y_test])\n",
    "print('For testing set: {}'.format(logistic.score(X_test, Y_test)))"
   ]
  },
  {
   "cell_type": "markdown",
   "metadata": {},
   "source": [
    "Not so good..."
   ]
  },
  {
   "cell_type": "markdown",
   "metadata": {},
   "source": [
    "How about 21 principal components? (Seems like a reasonable knee in the scree plot)"
   ]
  },
  {
   "cell_type": "code",
   "execution_count": 205,
   "metadata": {
    "collapsed": true
   },
   "outputs": [],
   "source": [
    "X = reduced_data[:, :21]\n",
    "Y = np.array([int(label) for label in y_train])"
   ]
  },
  {
   "cell_type": "code",
   "execution_count": 206,
   "metadata": {},
   "outputs": [
    {
     "name": "stdout",
     "output_type": "stream",
     "text": [
      "For training set: 0.7365853658536585\n"
     ]
    }
   ],
   "source": [
    "logistic = linear_model.LogisticRegression()\n",
    "logistic.fit(X, Y)\n",
    "print('For training set: {}'.format(logistic.score(X,Y)))"
   ]
  },
  {
   "cell_type": "code",
   "execution_count": 207,
   "metadata": {},
   "outputs": [
    {
     "name": "stdout",
     "output_type": "stream",
     "text": [
      "For testing set: 0.5617977528089888\n"
     ]
    }
   ],
   "source": [
    "releaseTFVects_test = releaseTFVectorizer.transform(x_test)\n",
    "reduced_data_test = pca.transform(releaseTFVects_test.toarray())\n",
    "X_test = reduced_data_test[:, :21]\n",
    "Y_test = np.array([int(label) for label in y_test])\n",
    "print('For testing set: {}'.format(logistic.score(X_test, Y_test)))"
   ]
  },
  {
   "cell_type": "markdown",
   "metadata": {},
   "source": [
    "After this point, more components doesn't result in much of an increase in predictive power. But, this still isn't great. To solve this problem, we should try different classifying algorithms."
   ]
  },
  {
   "cell_type": "markdown",
   "metadata": {},
   "source": [
    "### NAIVE BAYES"
   ]
  },
  {
   "cell_type": "code",
   "execution_count": 209,
   "metadata": {},
   "outputs": [
    {
     "data": {
      "text/html": [
       "<div>\n",
       "<style scoped>\n",
       "    .dataframe tbody tr th:only-of-type {\n",
       "        vertical-align: middle;\n",
       "    }\n",
       "\n",
       "    .dataframe tbody tr th {\n",
       "        vertical-align: top;\n",
       "    }\n",
       "\n",
       "    .dataframe thead th {\n",
       "        text-align: right;\n",
       "    }\n",
       "</style>\n",
       "<table border=\"1\" class=\"dataframe\">\n",
       "  <thead>\n",
       "    <tr style=\"text-align: right;\">\n",
       "      <th></th>\n",
       "      <th>month</th>\n",
       "      <th>year</th>\n",
       "      <th>Change</th>\n",
       "      <th>increase</th>\n",
       "      <th>date</th>\n",
       "      <th>release_text</th>\n",
       "    </tr>\n",
       "  </thead>\n",
       "  <tbody>\n",
       "    <tr>\n",
       "      <th>269</th>\n",
       "      <td>January</td>\n",
       "      <td>2016</td>\n",
       "      <td>0.42</td>\n",
       "      <td>True</td>\n",
       "      <td>January 27, 2016</td>\n",
       "      <td>Information received since the Federal Open Ma...</td>\n",
       "    </tr>\n",
       "    <tr>\n",
       "      <th>270</th>\n",
       "      <td>February</td>\n",
       "      <td>2016</td>\n",
       "      <td>0.12</td>\n",
       "      <td>True</td>\n",
       "      <td>January 27, 2016</td>\n",
       "      <td>Information received since the Federal Open Ma...</td>\n",
       "    </tr>\n",
       "    <tr>\n",
       "      <th>271</th>\n",
       "      <td>March</td>\n",
       "      <td>2016</td>\n",
       "      <td>-0.05</td>\n",
       "      <td>False</td>\n",
       "      <td>March 16, 2016</td>\n",
       "      <td>Information received since the Federal Open Ma...</td>\n",
       "    </tr>\n",
       "    <tr>\n",
       "      <th>272</th>\n",
       "      <td>April</td>\n",
       "      <td>2016</td>\n",
       "      <td>0.03</td>\n",
       "      <td>True</td>\n",
       "      <td>April 27, 2016</td>\n",
       "      <td>Information received since the Federal Open Ma...</td>\n",
       "    </tr>\n",
       "    <tr>\n",
       "      <th>273</th>\n",
       "      <td>May</td>\n",
       "      <td>2016</td>\n",
       "      <td>0.00</td>\n",
       "      <td>False</td>\n",
       "      <td>April 27, 2016</td>\n",
       "      <td>Information received since the Federal Open Ma...</td>\n",
       "    </tr>\n",
       "    <tr>\n",
       "      <th>274</th>\n",
       "      <td>June</td>\n",
       "      <td>2016</td>\n",
       "      <td>0.03</td>\n",
       "      <td>True</td>\n",
       "      <td>June 15, 2016</td>\n",
       "      <td>Information received since the Federal Open Ma...</td>\n",
       "    </tr>\n",
       "    <tr>\n",
       "      <th>275</th>\n",
       "      <td>July</td>\n",
       "      <td>2016</td>\n",
       "      <td>0.03</td>\n",
       "      <td>True</td>\n",
       "      <td>July 27, 2016</td>\n",
       "      <td>Information received since the Federal Open Ma...</td>\n",
       "    </tr>\n",
       "    <tr>\n",
       "      <th>276</th>\n",
       "      <td>August</td>\n",
       "      <td>2016</td>\n",
       "      <td>0.03</td>\n",
       "      <td>True</td>\n",
       "      <td>July 27, 2016</td>\n",
       "      <td>Information received since the Federal Open Ma...</td>\n",
       "    </tr>\n",
       "    <tr>\n",
       "      <th>277</th>\n",
       "      <td>September</td>\n",
       "      <td>2016</td>\n",
       "      <td>0.00</td>\n",
       "      <td>False</td>\n",
       "      <td>September 21, 2016</td>\n",
       "      <td>Information received since the Federal Open Ma...</td>\n",
       "    </tr>\n",
       "    <tr>\n",
       "      <th>278</th>\n",
       "      <td>October</td>\n",
       "      <td>2016</td>\n",
       "      <td>0.00</td>\n",
       "      <td>False</td>\n",
       "      <td>September 21, 2016</td>\n",
       "      <td>Information received since the Federal Open Ma...</td>\n",
       "    </tr>\n",
       "    <tr>\n",
       "      <th>279</th>\n",
       "      <td>November</td>\n",
       "      <td>2016</td>\n",
       "      <td>0.02</td>\n",
       "      <td>True</td>\n",
       "      <td>November 02, 2016</td>\n",
       "      <td>Information received since the Federal Open Ma...</td>\n",
       "    </tr>\n",
       "    <tr>\n",
       "      <th>280</th>\n",
       "      <td>December</td>\n",
       "      <td>2016</td>\n",
       "      <td>0.32</td>\n",
       "      <td>True</td>\n",
       "      <td>December 14, 2016</td>\n",
       "      <td>Information received since the Federal Open Ma...</td>\n",
       "    </tr>\n",
       "    <tr>\n",
       "      <th>281</th>\n",
       "      <td>January</td>\n",
       "      <td>2017</td>\n",
       "      <td>0.20</td>\n",
       "      <td>True</td>\n",
       "      <td>December 14, 2016</td>\n",
       "      <td>Information received since the Federal Open Ma...</td>\n",
       "    </tr>\n",
       "    <tr>\n",
       "      <th>282</th>\n",
       "      <td>February</td>\n",
       "      <td>2017</td>\n",
       "      <td>0.02</td>\n",
       "      <td>True</td>\n",
       "      <td>February 01, 2017</td>\n",
       "      <td>Information received since the Federal Open Ma...</td>\n",
       "    </tr>\n",
       "    <tr>\n",
       "      <th>283</th>\n",
       "      <td>March</td>\n",
       "      <td>2017</td>\n",
       "      <td>0.20</td>\n",
       "      <td>True</td>\n",
       "      <td>March 15, 2017</td>\n",
       "      <td>Information received since the Federal Open Ma...</td>\n",
       "    </tr>\n",
       "    <tr>\n",
       "      <th>284</th>\n",
       "      <td>April</td>\n",
       "      <td>2017</td>\n",
       "      <td>0.14</td>\n",
       "      <td>True</td>\n",
       "      <td>March 15, 2017</td>\n",
       "      <td>Information received since the Federal Open Ma...</td>\n",
       "    </tr>\n",
       "    <tr>\n",
       "      <th>285</th>\n",
       "      <td>May</td>\n",
       "      <td>2017</td>\n",
       "      <td>0.01</td>\n",
       "      <td>True</td>\n",
       "      <td>May 03, 2017</td>\n",
       "      <td>Information received since the Federal Open Ma...</td>\n",
       "    </tr>\n",
       "    <tr>\n",
       "      <th>286</th>\n",
       "      <td>June</td>\n",
       "      <td>2017</td>\n",
       "      <td>0.14</td>\n",
       "      <td>True</td>\n",
       "      <td>June 14, 2017</td>\n",
       "      <td>Information received since the Federal Open Ma...</td>\n",
       "    </tr>\n",
       "    <tr>\n",
       "      <th>287</th>\n",
       "      <td>July</td>\n",
       "      <td>2017</td>\n",
       "      <td>0.11</td>\n",
       "      <td>True</td>\n",
       "      <td>July 26, 2017</td>\n",
       "      <td>Information received since the Federal Open Ma...</td>\n",
       "    </tr>\n",
       "    <tr>\n",
       "      <th>288</th>\n",
       "      <td>August</td>\n",
       "      <td>2017</td>\n",
       "      <td>0.01</td>\n",
       "      <td>True</td>\n",
       "      <td>July 26, 2017</td>\n",
       "      <td>Information received since the Federal Open Ma...</td>\n",
       "    </tr>\n",
       "    <tr>\n",
       "      <th>289</th>\n",
       "      <td>September</td>\n",
       "      <td>2017</td>\n",
       "      <td>-0.01</td>\n",
       "      <td>False</td>\n",
       "      <td>September 20, 2017</td>\n",
       "      <td>Information received since the Federal Open Ma...</td>\n",
       "    </tr>\n",
       "    <tr>\n",
       "      <th>290</th>\n",
       "      <td>October</td>\n",
       "      <td>2017</td>\n",
       "      <td>0.00</td>\n",
       "      <td>False</td>\n",
       "      <td>September 20, 2017</td>\n",
       "      <td>Information received since the Federal Open Ma...</td>\n",
       "    </tr>\n",
       "    <tr>\n",
       "      <th>291</th>\n",
       "      <td>November</td>\n",
       "      <td>2017</td>\n",
       "      <td>0.01</td>\n",
       "      <td>True</td>\n",
       "      <td>November 01, 2017</td>\n",
       "      <td>Information received since the Federal Open Ma...</td>\n",
       "    </tr>\n",
       "    <tr>\n",
       "      <th>292</th>\n",
       "      <td>December</td>\n",
       "      <td>2017</td>\n",
       "      <td>0.12</td>\n",
       "      <td>True</td>\n",
       "      <td>December 13, 2017</td>\n",
       "      <td>Information received since the Federal Open Ma...</td>\n",
       "    </tr>\n",
       "    <tr>\n",
       "      <th>293</th>\n",
       "      <td>January</td>\n",
       "      <td>2018</td>\n",
       "      <td>0.08</td>\n",
       "      <td>True</td>\n",
       "      <td>January 31, 2018</td>\n",
       "      <td>Information received since the Federal Open Ma...</td>\n",
       "    </tr>\n",
       "  </tbody>\n",
       "</table>\n",
       "</div>"
      ],
      "text/plain": [
       "         month  year  Change  increase                date  \\\n",
       "269    January  2016    0.42      True    January 27, 2016   \n",
       "270   February  2016    0.12      True    January 27, 2016   \n",
       "271      March  2016   -0.05     False      March 16, 2016   \n",
       "272      April  2016    0.03      True      April 27, 2016   \n",
       "273        May  2016    0.00     False      April 27, 2016   \n",
       "274       June  2016    0.03      True       June 15, 2016   \n",
       "275       July  2016    0.03      True       July 27, 2016   \n",
       "276     August  2016    0.03      True       July 27, 2016   \n",
       "277  September  2016    0.00     False  September 21, 2016   \n",
       "278    October  2016    0.00     False  September 21, 2016   \n",
       "279   November  2016    0.02      True   November 02, 2016   \n",
       "280   December  2016    0.32      True   December 14, 2016   \n",
       "281    January  2017    0.20      True   December 14, 2016   \n",
       "282   February  2017    0.02      True   February 01, 2017   \n",
       "283      March  2017    0.20      True      March 15, 2017   \n",
       "284      April  2017    0.14      True      March 15, 2017   \n",
       "285        May  2017    0.01      True        May 03, 2017   \n",
       "286       June  2017    0.14      True       June 14, 2017   \n",
       "287       July  2017    0.11      True       July 26, 2017   \n",
       "288     August  2017    0.01      True       July 26, 2017   \n",
       "289  September  2017   -0.01     False  September 20, 2017   \n",
       "290    October  2017    0.00     False  September 20, 2017   \n",
       "291   November  2017    0.01      True   November 01, 2017   \n",
       "292   December  2017    0.12      True   December 13, 2017   \n",
       "293    January  2018    0.08      True    January 31, 2018   \n",
       "\n",
       "                                          release_text  \n",
       "269  Information received since the Federal Open Ma...  \n",
       "270  Information received since the Federal Open Ma...  \n",
       "271  Information received since the Federal Open Ma...  \n",
       "272  Information received since the Federal Open Ma...  \n",
       "273  Information received since the Federal Open Ma...  \n",
       "274  Information received since the Federal Open Ma...  \n",
       "275  Information received since the Federal Open Ma...  \n",
       "276  Information received since the Federal Open Ma...  \n",
       "277  Information received since the Federal Open Ma...  \n",
       "278  Information received since the Federal Open Ma...  \n",
       "279  Information received since the Federal Open Ma...  \n",
       "280  Information received since the Federal Open Ma...  \n",
       "281  Information received since the Federal Open Ma...  \n",
       "282  Information received since the Federal Open Ma...  \n",
       "283  Information received since the Federal Open Ma...  \n",
       "284  Information received since the Federal Open Ma...  \n",
       "285  Information received since the Federal Open Ma...  \n",
       "286  Information received since the Federal Open Ma...  \n",
       "287  Information received since the Federal Open Ma...  \n",
       "288  Information received since the Federal Open Ma...  \n",
       "289  Information received since the Federal Open Ma...  \n",
       "290  Information received since the Federal Open Ma...  \n",
       "291  Information received since the Federal Open Ma...  \n",
       "292  Information received since the Federal Open Ma...  \n",
       "293  Information received since the Federal Open Ma...  "
      ]
     },
     "execution_count": 209,
     "metadata": {},
     "output_type": "execute_result"
    }
   ],
   "source": [
    "#releaserates_df.iloc[125:]\n",
    "releaserates_df.iloc[269:]"
   ]
  },
  {
   "cell_type": "code",
   "execution_count": 280,
   "metadata": {
    "collapsed": true
   },
   "outputs": [],
   "source": [
    "#x_train, x_test, y_train, y_test = train_test_split(releaserates_df['release_text'], releaserates_df['increase'], test_size = .30, random_state = 42)\n",
    "#train_df = pd.DataFrame({'release_text':x_train, 'increase':y_train})\n",
    "#test_df = pd.DataFrame({'release_text':x_test, 'increase' : y_test})\n",
    "\n",
    "# settings for testing on releases after Jan 2017 (with data since 2006)\n",
    "#train_df = releaserates_df.iloc[:137].copy()\n",
    "#test_df = releaserates_df.iloc[137:].copy()\n",
    "\n",
    "# with data since 1994\n",
    "#train_df = releaserates_df.iloc[:281].copy()\n",
    "#test_df = releaserates_df.iloc[281:].copy()\n",
    "\n",
    "# settings for testing on releases after Jan 2016 (with data since 2006)\n",
    "#train_df = releaserates_df.iloc[:125].copy()\n",
    "#test_df = releaserates_df.iloc[125:].copy()\n",
    "\n",
    "# with data since 1994\n",
    "train_df = releaserates_df.iloc[:269].copy()\n",
    "test_df = releaserates_df.iloc[269:].copy()"
   ]
  },
  {
   "cell_type": "markdown",
   "metadata": {},
   "source": [
    "TODO\n",
    "- Try Leave One Out testing [DONE]\n",
    "- Better model descriptions\n",
    "- Include past releases [DONE]\n",
    "- Include unemployment as another (or comparison) variable\n",
    "- Determine most characteristic words"
   ]
  },
  {
   "cell_type": "code",
   "execution_count": 281,
   "metadata": {},
   "outputs": [],
   "source": [
    "clf = sklearn.naive_bayes.GaussianNB()\n",
    "TFVectorizer = sklearn.feature_extraction.text.TfidfVectorizer(max_df=15, stop_words='english', norm='l2')\n",
    "\n",
    "TFVects = TFVectorizer.fit_transform(train_df['release_text'])\n",
    "train_df['vect'] = [np.array(v).flatten() for v in TFVects.todense()]\n",
    "\n",
    "TFVects_test = TFVectorizer.transform(test_df['release_text'])\n",
    "test_df['vect'] = [np.array(v).flatten() for v in TFVects_test.todense()]"
   ]
  },
  {
   "cell_type": "code",
   "execution_count": 257,
   "metadata": {},
   "outputs": [
    {
     "data": {
      "text/plain": [
       "BernoulliNB(alpha=1.0, binarize=0.0, class_prior=None, fit_prior=True)"
      ]
     },
     "execution_count": 257,
     "metadata": {},
     "output_type": "execute_result"
    }
   ],
   "source": [
    "naiveBayes = sklearn.naive_bayes.BernoulliNB()\n",
    "naiveBayes.fit(np.stack(train_df['vect'], axis=0), train_df['increase'])"
   ]
  },
  {
   "cell_type": "code",
   "execution_count": 258,
   "metadata": {},
   "outputs": [
    {
     "name": "stdout",
     "output_type": "stream",
     "text": [
      "Training:\n",
      "0.8113879003558719\n",
      "Testing:\n",
      "0.8461538461538461\n"
     ]
    }
   ],
   "source": [
    "print(\"Training:\")\n",
    "print(naiveBayes.score(np.stack(train_df['vect'], axis=0), train_df['increase']))\n",
    "print(\"Testing:\")\n",
    "print(naiveBayes.score(np.stack(test_df['vect'], axis=0), test_df['increase']))"
   ]
  },
  {
   "cell_type": "code",
   "execution_count": 259,
   "metadata": {},
   "outputs": [
    {
     "name": "stdout",
     "output_type": "stream",
     "text": [
      "             precision    recall  f1-score   support\n",
      "\n",
      "      False       0.00      0.00      0.00         2\n",
      "       True       0.85      1.00      0.92        11\n",
      "\n",
      "avg / total       0.72      0.85      0.78        13\n",
      "\n"
     ]
    },
    {
     "name": "stderr",
     "output_type": "stream",
     "text": [
      "/Users/josephdenby/anaconda/lib/python3.6/site-packages/sklearn/metrics/classification.py:1135: UndefinedMetricWarning: Precision and F-score are ill-defined and being set to 0.0 in labels with no predicted samples.\n",
      "  'precision', 'predicted', average, warn_for)\n"
     ]
    }
   ],
   "source": [
    "y_pred = naiveBayes.predict(np.stack(test_df['vect'], axis=0))\n",
    "print(classification_report(test_df['increase'], y_pred))"
   ]
  },
  {
   "cell_type": "markdown",
   "metadata": {},
   "source": [
    "### DECISION TREE"
   ]
  },
  {
   "cell_type": "code",
   "execution_count": 260,
   "metadata": {},
   "outputs": [
    {
     "data": {
      "text/plain": [
       "DecisionTreeClassifier(class_weight=None, criterion='gini', max_depth=4,\n",
       "            max_features=None, max_leaf_nodes=None,\n",
       "            min_impurity_decrease=0.0, min_impurity_split=None,\n",
       "            min_samples_leaf=1, min_samples_split=2,\n",
       "            min_weight_fraction_leaf=0.0, presort=False, random_state=0,\n",
       "            splitter='best')"
      ]
     },
     "execution_count": 260,
     "metadata": {},
     "output_type": "execute_result"
    }
   ],
   "source": [
    "clf_tree = sklearn.tree.DecisionTreeClassifier(max_depth=4,random_state=0)\n",
    "clf_tree.fit(np.stack(train_df['vect'], axis =0), train_df['increase'])"
   ]
  },
  {
   "cell_type": "code",
   "execution_count": 261,
   "metadata": {
    "scrolled": true
   },
   "outputs": [
    {
     "name": "stdout",
     "output_type": "stream",
     "text": [
      "Training:\n",
      "0.5871886120996441\n",
      "Testing:\n",
      "0.8461538461538461\n"
     ]
    }
   ],
   "source": [
    "print(\"Training:\")\n",
    "print(sklearn.metrics.accuracy_score(train_df['increase'],clf_tree.predict(np.stack(train_df['vect'], axis = 0))))\n",
    "print(\"Testing:\")\n",
    "print(sklearn.metrics.accuracy_score(test_df['increase'],clf_tree.predict(np.stack(test_df['vect'], axis = 0))))"
   ]
  },
  {
   "cell_type": "code",
   "execution_count": 262,
   "metadata": {},
   "outputs": [
    {
     "name": "stdout",
     "output_type": "stream",
     "text": [
      "             precision    recall  f1-score   support\n",
      "\n",
      "      False       0.00      0.00      0.00         2\n",
      "       True       0.85      1.00      0.92        11\n",
      "\n",
      "avg / total       0.72      0.85      0.78        13\n",
      "\n"
     ]
    },
    {
     "name": "stderr",
     "output_type": "stream",
     "text": [
      "/Users/josephdenby/anaconda/lib/python3.6/site-packages/sklearn/metrics/classification.py:1135: UndefinedMetricWarning: Precision and F-score are ill-defined and being set to 0.0 in labels with no predicted samples.\n",
      "  'precision', 'predicted', average, warn_for)\n"
     ]
    }
   ],
   "source": [
    "y_pred = clf_tree.predict(np.stack(test_df['vect'], axis=0))\n",
    "print(classification_report(test_df['increase'], y_pred))"
   ]
  },
  {
   "cell_type": "markdown",
   "metadata": {},
   "source": [
    "### BAGGING"
   ]
  },
  {
   "cell_type": "code",
   "execution_count": 282,
   "metadata": {
    "collapsed": true
   },
   "outputs": [],
   "source": [
    "tree = sklearn.tree.DecisionTreeClassifier(max_depth=10) #Create an instance of our decision tree classifier.\n",
    "\n",
    "bag = sklearn.ensemble.BaggingClassifier(tree, n_estimators=100, max_samples=0.8, random_state=1) #Each tree uses up to 80% of the data"
   ]
  },
  {
   "cell_type": "code",
   "execution_count": 283,
   "metadata": {},
   "outputs": [
    {
     "data": {
      "text/plain": [
       "BaggingClassifier(base_estimator=DecisionTreeClassifier(class_weight=None, criterion='gini', max_depth=10,\n",
       "            max_features=None, max_leaf_nodes=None,\n",
       "            min_impurity_decrease=0.0, min_impurity_split=None,\n",
       "            min_samples_leaf=1, min_samples_split=2,\n",
       "            min_weight_fraction_leaf=0.0, presort=False, random_state=None,\n",
       "            splitter='best'),\n",
       "         bootstrap=True, bootstrap_features=False, max_features=1.0,\n",
       "         max_samples=0.8, n_estimators=100, n_jobs=1, oob_score=False,\n",
       "         random_state=1, verbose=0, warm_start=False)"
      ]
     },
     "execution_count": 283,
     "metadata": {},
     "output_type": "execute_result"
    }
   ],
   "source": [
    "bag.fit(np.stack(train_df['vect'], axis =0), train_df['increase']) #Fit the bagged classifier"
   ]
  },
  {
   "cell_type": "code",
   "execution_count": 284,
   "metadata": {},
   "outputs": [
    {
     "name": "stdout",
     "output_type": "stream",
     "text": [
      "Training:\n",
      "0.8438661710037175\n",
      "Testing:\n",
      "0.24\n"
     ]
    }
   ],
   "source": [
    "print(\"Training:\")\n",
    "print(bag.score(np.stack(train_df['vect'], axis=0), train_df['increase']))\n",
    "print(\"Testing:\")\n",
    "print(bag.score(np.stack(test_df['vect'], axis=0), test_df['increase']))"
   ]
  },
  {
   "cell_type": "code",
   "execution_count": 285,
   "metadata": {},
   "outputs": [
    {
     "name": "stdout",
     "output_type": "stream",
     "text": [
      "             precision    recall  f1-score   support\n",
      "\n",
      "      False       0.19      0.67      0.30         6\n",
      "       True       0.50      0.11      0.17        19\n",
      "\n",
      "avg / total       0.43      0.24      0.20        25\n",
      "\n"
     ]
    }
   ],
   "source": [
    "y_pred = bag.predict(np.stack(test_df['vect'], axis=0))\n",
    "print(classification_report(test_df['increase'], y_pred))"
   ]
  },
  {
   "cell_type": "markdown",
   "metadata": {},
   "source": [
    "### KNN"
   ]
  },
  {
   "cell_type": "code",
   "execution_count": 266,
   "metadata": {
    "collapsed": true
   },
   "outputs": [],
   "source": [
    "n_neighbors = 15\n",
    "weights=\"uniform\"\n",
    "clf_knearest = sklearn.neighbors.KNeighborsClassifier(n_neighbors, weights=weights)"
   ]
  },
  {
   "cell_type": "code",
   "execution_count": 267,
   "metadata": {},
   "outputs": [
    {
     "data": {
      "text/plain": [
       "KNeighborsClassifier(algorithm='auto', leaf_size=30, metric='minkowski',\n",
       "           metric_params=None, n_jobs=1, n_neighbors=15, p=2,\n",
       "           weights='uniform')"
      ]
     },
     "execution_count": 267,
     "metadata": {},
     "output_type": "execute_result"
    }
   ],
   "source": [
    "clf_knearest.fit(np.stack(train_df['vect'], axis = 0), train_df['increase'])"
   ]
  },
  {
   "cell_type": "code",
   "execution_count": 268,
   "metadata": {},
   "outputs": [
    {
     "name": "stdout",
     "output_type": "stream",
     "text": [
      "Training: \n",
      "0.6725978647686833\n",
      "Testing: \n",
      "0.6923076923076923\n"
     ]
    }
   ],
   "source": [
    "print('Training: ')\n",
    "print(clf_knearest.score(np.stack(train_df['vect'], axis=0), train_df['increase']))\n",
    "print('Testing: ')\n",
    "print(clf_knearest.score(np.stack(test_df['vect'], axis=0), test_df['increase']))"
   ]
  },
  {
   "cell_type": "markdown",
   "metadata": {},
   "source": [
    "### SVM"
   ]
  },
  {
   "cell_type": "markdown",
   "metadata": {},
   "source": [
    "#### Linear"
   ]
  },
  {
   "cell_type": "code",
   "execution_count": 269,
   "metadata": {},
   "outputs": [
    {
     "data": {
      "text/plain": [
       "SVC(C=1.0, cache_size=200, class_weight=None, coef0=0.0,\n",
       "  decision_function_shape='ovr', degree=3, gamma='auto', kernel='linear',\n",
       "  max_iter=-1, probability=False, random_state=None, shrinking=True,\n",
       "  tol=0.001, verbose=False)"
      ]
     },
     "execution_count": 269,
     "metadata": {},
     "output_type": "execute_result"
    }
   ],
   "source": [
    "clf_svm = sklearn.svm.SVC(kernel='linear', probability = False)\n",
    "clf_svm.fit(np.stack(train_df['vect'], axis=0), train_df['increase'])"
   ]
  },
  {
   "cell_type": "code",
   "execution_count": 270,
   "metadata": {},
   "outputs": [
    {
     "name": "stdout",
     "output_type": "stream",
     "text": [
      "Training: \n",
      "0.8256227758007118\n",
      "Testing: \n",
      "0.8461538461538461\n"
     ]
    }
   ],
   "source": [
    "print('Training: ')\n",
    "print(clf_svm.score(np.stack(train_df['vect'], axis=0), train_df['increase']))\n",
    "print('Testing: ')\n",
    "print(clf_svm.score(np.stack(test_df['vect'], axis=0), test_df['increase']))"
   ]
  },
  {
   "cell_type": "markdown",
   "metadata": {},
   "source": [
    "#### Cubic"
   ]
  },
  {
   "cell_type": "code",
   "execution_count": 271,
   "metadata": {},
   "outputs": [
    {
     "data": {
      "text/plain": [
       "SVC(C=1.0, cache_size=200, class_weight=None, coef0=0.0,\n",
       "  decision_function_shape='ovr', degree=3, gamma='auto', kernel='poly',\n",
       "  max_iter=-1, probability=False, random_state=None, shrinking=True,\n",
       "  tol=0.001, verbose=False)"
      ]
     },
     "execution_count": 271,
     "metadata": {},
     "output_type": "execute_result"
    }
   ],
   "source": [
    "clf_svm = sklearn.svm.SVC(kernel = 'poly', degree = 3, probability = False)\n",
    "clf_svm.fit(np.stack(train_df['vect'], axis=0), train_df['increase'])"
   ]
  },
  {
   "cell_type": "code",
   "execution_count": 272,
   "metadata": {},
   "outputs": [
    {
     "name": "stdout",
     "output_type": "stream",
     "text": [
      "Training: \n",
      "0.501779359430605\n",
      "Testing: \n",
      "0.15384615384615385\n"
     ]
    }
   ],
   "source": [
    "print('Training: ')\n",
    "print(clf_svm.score(np.stack(train_df['vect'], axis=0), train_df['increase']))\n",
    "print('Testing: ')\n",
    "print(clf_svm.score(np.stack(test_df['vect'], axis=0), test_df['increase']))"
   ]
  },
  {
   "cell_type": "markdown",
   "metadata": {},
   "source": [
    "### NEURAL NETS"
   ]
  },
  {
   "cell_type": "code",
   "execution_count": 299,
   "metadata": {},
   "outputs": [
    {
     "data": {
      "text/plain": [
       "MLPClassifier(activation='relu', alpha=0.0001, batch_size='auto', beta_1=0.9,\n",
       "       beta_2=0.999, early_stopping=False, epsilon=1e-08,\n",
       "       hidden_layer_sizes=(100,), learning_rate='constant',\n",
       "       learning_rate_init=0.001, max_iter=200, momentum=0.9,\n",
       "       nesterovs_momentum=True, power_t=0.5, random_state=None,\n",
       "       shuffle=True, solver='adam', tol=0.0001, validation_fraction=0.1,\n",
       "       verbose=False, warm_start=False)"
      ]
     },
     "execution_count": 299,
     "metadata": {},
     "output_type": "execute_result"
    }
   ],
   "source": [
    "clf_nn = sklearn.neural_network.MLPClassifier()\n",
    "clf_nn.fit(np.stack(train_df['vect'], axis=0), train_df['increase'])"
   ]
  },
  {
   "cell_type": "code",
   "execution_count": 300,
   "metadata": {},
   "outputs": [
    {
     "name": "stdout",
     "output_type": "stream",
     "text": [
      "Training: \n",
      "0.8661710037174721\n",
      "Testing: \n",
      "0.84\n"
     ]
    }
   ],
   "source": [
    "print('Training: ')\n",
    "print(clf_nn.score(np.stack(train_df['vect'], axis=0), train_df['increase']))\n",
    "print('Testing: ')\n",
    "print(clf_nn.score(np.stack(test_df['vect'], axis=0), test_df['increase']))"
   ]
  },
  {
   "cell_type": "code",
   "execution_count": 301,
   "metadata": {},
   "outputs": [
    {
     "name": "stdout",
     "output_type": "stream",
     "text": [
      "             precision    recall  f1-score   support\n",
      "\n",
      "      False       1.00      0.33      0.50         6\n",
      "       True       0.83      1.00      0.90        19\n",
      "\n",
      "avg / total       0.87      0.84      0.81        25\n",
      "\n"
     ]
    }
   ],
   "source": [
    "y_pred = clf_nn.predict(np.stack(test_df['vect'], axis=0))\n",
    "print(classification_report(test_df['increase'], y_pred))"
   ]
  },
  {
   "cell_type": "markdown",
   "metadata": {},
   "source": [
    "Woohoo!"
   ]
  },
  {
   "cell_type": "markdown",
   "metadata": {},
   "source": [
    "Looks like using a Neural Net or Bagging model is our best bet."
   ]
  },
  {
   "cell_type": "markdown",
   "metadata": {},
   "source": [
    "### LOOCV"
   ]
  },
  {
   "cell_type": "code",
   "execution_count": 302,
   "metadata": {
    "collapsed": true
   },
   "outputs": [],
   "source": [
    "from sklearn.model_selection import LeaveOneOut"
   ]
  },
  {
   "cell_type": "code",
   "execution_count": 316,
   "metadata": {},
   "outputs": [],
   "source": [
    "TFVectorizer = sklearn.feature_extraction.text.TfidfVectorizer(max_df=15, stop_words='english', norm='l2')\n",
    "\n",
    "TFVects = TFVectorizer.fit_transform(releaserates_df['release_text'])\n",
    "\n",
    "releaserates_df['vect'] = [np.array(v).flatten() for v in TFVects.todense()]\n",
    "\n",
    "yvals = releaserates_df['increase'].apply(lambda x: int(x)).values\n",
    "Xvals = releaserates_df['vect'].values"
   ]
  },
  {
   "cell_type": "markdown",
   "metadata": {},
   "source": [
    "#### For Neural Net"
   ]
  },
  {
   "cell_type": "code",
   "execution_count": 323,
   "metadata": {},
   "outputs": [
    {
     "name": "stdout",
     "output_type": "stream",
     "text": [
      "MSE for test set [0]  is [0.]\n",
      "MSE for test set [1]  is [0.]\n",
      "MSE for test set [2]  is [0.]\n"
     ]
    },
    {
     "name": "stderr",
     "output_type": "stream",
     "text": [
      "/Users/josephdenby/anaconda/lib/python3.6/site-packages/sklearn/neural_network/multilayer_perceptron.py:564: ConvergenceWarning: Stochastic Optimizer: Maximum iterations (200) reached and the optimization hasn't converged yet.\n",
      "  % self.max_iter, ConvergenceWarning)\n"
     ]
    },
    {
     "name": "stdout",
     "output_type": "stream",
     "text": [
      "MSE for test set [3]  is [0.]\n",
      "MSE for test set [4]  is [0.]\n",
      "MSE for test set [5]  is [0.]\n",
      "MSE for test set [6]  is [0.]\n",
      "MSE for test set [7]  is [0.]\n",
      "MSE for test set [8]  is [0.]\n",
      "MSE for test set [9]  is [0.]\n",
      "MSE for test set [10]  is [0.]\n",
      "MSE for test set [11]  is [0.]\n",
      "MSE for test set [12]  is [1.]\n",
      "MSE for test set [13]  is [1.]\n",
      "MSE for test set [14]  is [1.]\n",
      "MSE for test set [15]  is [1.]\n",
      "MSE for test set [16]  is [1.]\n",
      "MSE for test set [17]  is [0.]\n",
      "MSE for test set [18]  is [1.]\n",
      "MSE for test set [19]  is [1.]\n",
      "MSE for test set [20]  is [0.]\n",
      "MSE for test set [21]  is [1.]\n",
      "MSE for test set [22]  is [0.]\n",
      "MSE for test set [23]  is [0.]\n",
      "MSE for test set [24]  is [0.]\n",
      "MSE for test set [25]  is [1.]\n",
      "MSE for test set [26]  is [1.]\n",
      "MSE for test set [27]  is [1.]\n",
      "MSE for test set [28]  is [1.]\n",
      "MSE for test set [29]  is [1.]\n",
      "MSE for test set [30]  is [0.]\n",
      "MSE for test set [31]  is [1.]\n",
      "MSE for test set [32]  is [0.]\n",
      "MSE for test set [33]  is [1.]\n",
      "MSE for test set [34]  is [0.]\n",
      "MSE for test set [35]  is [0.]\n",
      "MSE for test set [36]  is [0.]\n",
      "MSE for test set [37]  is [1.]\n",
      "MSE for test set [38]  is [1.]\n",
      "MSE for test set [39]  is [1.]\n",
      "MSE for test set [40]  is [1.]\n",
      "MSE for test set [41]  is [1.]\n",
      "MSE for test set [42]  is [1.]\n",
      "MSE for test set [43]  is [1.]\n",
      "MSE for test set [44]  is [1.]\n",
      "MSE for test set [45]  is [1.]\n",
      "MSE for test set [46]  is [1.]\n",
      "MSE for test set [47]  is [1.]\n",
      "MSE for test set [48]  is [1.]\n",
      "MSE for test set [49]  is [1.]\n",
      "MSE for test set [50]  is [1.]\n",
      "MSE for test set [51]  is [1.]\n",
      "MSE for test set [52]  is [1.]\n",
      "MSE for test set [53]  is [1.]\n",
      "MSE for test set [54]  is [1.]\n",
      "MSE for test set [55]  is [1.]\n",
      "MSE for test set [56]  is [0.]\n",
      "MSE for test set [57]  is [0.]\n",
      "MSE for test set [58]  is [0.]\n",
      "MSE for test set [59]  is [0.]\n",
      "MSE for test set [60]  is [1.]\n",
      "MSE for test set [61]  is [1.]\n",
      "MSE for test set [62]  is [0.]\n",
      "MSE for test set [63]  is [1.]\n",
      "MSE for test set [64]  is [0.]\n",
      "MSE for test set [65]  is [0.]\n",
      "MSE for test set [66]  is [0.]\n",
      "MSE for test set [67]  is [0.]\n",
      "MSE for test set [68]  is [1.]\n",
      "MSE for test set [69]  is [0.]\n",
      "MSE for test set [70]  is [1.]\n",
      "MSE for test set [71]  is [1.]\n",
      "MSE for test set [72]  is [0.]\n",
      "MSE for test set [73]  is [0.]\n",
      "MSE for test set [74]  is [0.]\n",
      "MSE for test set [75]  is [0.]\n",
      "MSE for test set [76]  is [0.]\n",
      "MSE for test set [77]  is [0.]\n",
      "MSE for test set [78]  is [1.]\n",
      "MSE for test set [79]  is [1.]\n",
      "MSE for test set [80]  is [1.]\n",
      "MSE for test set [81]  is [0.]\n",
      "MSE for test set [82]  is [0.]\n",
      "MSE for test set [83]  is [0.]\n",
      "MSE for test set [84]  is [0.]\n",
      "MSE for test set [85]  is [0.]\n",
      "MSE for test set [86]  is [0.]\n",
      "MSE for test set [87]  is [0.]\n",
      "MSE for test set [88]  is [0.]\n",
      "MSE for test set [89]  is [0.]\n",
      "MSE for test set [90]  is [0.]\n",
      "MSE for test set [91]  is [0.]\n",
      "MSE for test set [92]  is [0.]\n",
      "MSE for test set [93]  is [0.]\n",
      "MSE for test set [94]  is [0.]\n",
      "MSE for test set [95]  is [0.]\n",
      "MSE for test set [96]  is [1.]\n",
      "MSE for test set [97]  is [1.]\n",
      "MSE for test set [98]  is [1.]\n",
      "MSE for test set [99]  is [1.]\n",
      "MSE for test set [100]  is [0.]\n",
      "MSE for test set [101]  is [0.]\n",
      "MSE for test set [102]  is [0.]\n",
      "MSE for test set [103]  is [1.]\n",
      "MSE for test set [104]  is [1.]\n",
      "MSE for test set [105]  is [1.]\n",
      "MSE for test set [106]  is [0.]\n",
      "MSE for test set [107]  is [0.]\n",
      "MSE for test set [108]  is [1.]\n",
      "MSE for test set [109]  is [1.]\n",
      "MSE for test set [110]  is [1.]\n",
      "MSE for test set [111]  is [1.]\n",
      "MSE for test set [112]  is [0.]\n",
      "MSE for test set [113]  is [0.]\n",
      "MSE for test set [114]  is [0.]\n",
      "MSE for test set [115]  is [1.]\n",
      "MSE for test set [116]  is [0.]\n",
      "MSE for test set [117]  is [0.]\n",
      "MSE for test set [118]  is [0.]\n",
      "MSE for test set [119]  is [1.]\n",
      "MSE for test set [120]  is [0.]\n",
      "MSE for test set [121]  is [0.]\n",
      "MSE for test set [122]  is [0.]\n",
      "MSE for test set [123]  is [0.]\n",
      "MSE for test set [124]  is [1.]\n",
      "MSE for test set [125]  is [0.]\n",
      "MSE for test set [126]  is [0.]\n",
      "MSE for test set [127]  is [0.]\n",
      "MSE for test set [128]  is [0.]\n",
      "MSE for test set [129]  is [0.]\n",
      "MSE for test set [130]  is [0.]\n",
      "MSE for test set [131]  is [0.]\n",
      "MSE for test set [132]  is [0.]\n",
      "MSE for test set [133]  is [0.]\n",
      "MSE for test set [134]  is [0.]\n",
      "MSE for test set [135]  is [0.]\n",
      "MSE for test set [136]  is [0.]\n",
      "MSE for test set [137]  is [0.]\n",
      "MSE for test set [138]  is [0.]\n",
      "MSE for test set [139]  is [0.]\n",
      "MSE for test set [140]  is [0.]\n",
      "MSE for test set [141]  is [0.]\n",
      "MSE for test set [142]  is [0.]\n",
      "MSE for test set [143]  is [0.]\n",
      "MSE for test set [144]  is [0.]\n",
      "MSE for test set [145]  is [0.]\n",
      "MSE for test set [146]  is [0.]\n",
      "MSE for test set [147]  is [0.]\n",
      "MSE for test set [148]  is [0.]\n",
      "MSE for test set [149]  is [0.]\n",
      "MSE for test set [150]  is [0.]\n",
      "MSE for test set [151]  is [1.]\n",
      "MSE for test set [152]  is [0.]\n",
      "MSE for test set [153]  is [0.]\n",
      "MSE for test set [154]  is [0.]\n",
      "MSE for test set [155]  is [0.]\n",
      "MSE for test set [156]  is [0.]\n",
      "MSE for test set [157]  is [0.]\n",
      "MSE for test set [158]  is [0.]\n",
      "MSE for test set [159]  is [0.]\n",
      "MSE for test set [160]  is [0.]\n",
      "MSE for test set [161]  is [1.]\n",
      "MSE for test set [162]  is [1.]\n",
      "MSE for test set [163]  is [0.]\n",
      "MSE for test set [164]  is [0.]\n",
      "MSE for test set [165]  is [0.]\n",
      "MSE for test set [166]  is [0.]\n",
      "MSE for test set [167]  is [0.]\n",
      "MSE for test set [168]  is [0.]\n",
      "MSE for test set [169]  is [0.]\n",
      "MSE for test set [170]  is [0.]\n",
      "MSE for test set [171]  is [0.]\n",
      "MSE for test set [172]  is [0.]\n",
      "MSE for test set [173]  is [1.]\n",
      "MSE for test set [174]  is [0.]\n",
      "MSE for test set [175]  is [0.]\n",
      "MSE for test set [176]  is [0.]\n",
      "MSE for test set [177]  is [0.]\n",
      "MSE for test set [178]  is [0.]\n",
      "MSE for test set [179]  is [1.]\n",
      "MSE for test set [180]  is [0.]\n",
      "MSE for test set [181]  is [0.]\n",
      "MSE for test set [182]  is [0.]\n",
      "MSE for test set [183]  is [0.]\n",
      "MSE for test set [184]  is [0.]\n",
      "MSE for test set [185]  is [1.]\n",
      "MSE for test set [186]  is [1.]\n",
      "MSE for test set [187]  is [0.]\n",
      "MSE for test set [188]  is [0.]\n",
      "MSE for test set [189]  is [0.]\n",
      "MSE for test set [190]  is [0.]\n",
      "MSE for test set [191]  is [0.]\n",
      "MSE for test set [192]  is [1.]\n",
      "MSE for test set [193]  is [0.]\n",
      "MSE for test set [194]  is [0.]\n",
      "MSE for test set [195]  is [0.]\n",
      "MSE for test set [196]  is [1.]\n",
      "MSE for test set [197]  is [0.]\n",
      "MSE for test set [198]  is [0.]\n",
      "MSE for test set [199]  is [0.]\n",
      "MSE for test set [200]  is [0.]\n",
      "MSE for test set [201]  is [1.]\n",
      "MSE for test set [202]  is [0.]\n",
      "MSE for test set [203]  is [0.]\n",
      "MSE for test set [204]  is [0.]\n",
      "MSE for test set [205]  is [0.]\n",
      "MSE for test set [206]  is [0.]\n",
      "MSE for test set [207]  is [0.]\n",
      "MSE for test set [208]  is [0.]\n",
      "MSE for test set [209]  is [0.]\n",
      "MSE for test set [210]  is [0.]\n",
      "MSE for test set [211]  is [1.]\n",
      "MSE for test set [212]  is [0.]\n",
      "MSE for test set [213]  is [0.]\n",
      "MSE for test set [214]  is [1.]\n",
      "MSE for test set [215]  is [1.]\n",
      "MSE for test set [216]  is [0.]\n",
      "MSE for test set [217]  is [0.]\n",
      "MSE for test set [218]  is [0.]\n",
      "MSE for test set [219]  is [1.]\n",
      "MSE for test set [220]  is [1.]\n",
      "MSE for test set [221]  is [1.]\n",
      "MSE for test set [222]  is [1.]\n",
      "MSE for test set [223]  is [0.]\n",
      "MSE for test set [224]  is [0.]\n",
      "MSE for test set [225]  is [0.]\n",
      "MSE for test set [226]  is [1.]\n",
      "MSE for test set [227]  is [1.]\n",
      "MSE for test set [228]  is [1.]\n",
      "MSE for test set [229]  is [0.]\n",
      "MSE for test set [230]  is [1.]\n",
      "MSE for test set [231]  is [1.]\n",
      "MSE for test set [232]  is [0.]\n",
      "MSE for test set [233]  is [1.]\n",
      "MSE for test set [234]  is [1.]\n",
      "MSE for test set [235]  is [0.]\n",
      "MSE for test set [236]  is [0.]\n",
      "MSE for test set [237]  is [1.]\n",
      "MSE for test set [238]  is [1.]\n",
      "MSE for test set [239]  is [0.]\n",
      "MSE for test set [240]  is [0.]\n",
      "MSE for test set [241]  is [0.]\n",
      "MSE for test set [242]  is [0.]\n",
      "MSE for test set [243]  is [0.]\n",
      "MSE for test set [244]  is [0.]\n",
      "MSE for test set [245]  is [0.]\n",
      "MSE for test set [246]  is [0.]\n",
      "MSE for test set [247]  is [1.]\n",
      "MSE for test set [248]  is [0.]\n",
      "MSE for test set [249]  is [0.]\n",
      "MSE for test set [250]  is [1.]\n",
      "MSE for test set [251]  is [1.]\n",
      "MSE for test set [252]  is [1.]\n",
      "MSE for test set [253]  is [0.]\n",
      "MSE for test set [254]  is [0.]\n",
      "MSE for test set [255]  is [0.]\n",
      "MSE for test set [256]  is [1.]\n",
      "MSE for test set [257]  is [0.]\n",
      "MSE for test set [258]  is [0.]\n",
      "MSE for test set [259]  is [0.]\n",
      "MSE for test set [260]  is [0.]\n",
      "MSE for test set [261]  is [0.]\n",
      "MSE for test set [262]  is [0.]\n"
     ]
    },
    {
     "name": "stdout",
     "output_type": "stream",
     "text": [
      "MSE for test set [263]  is [0.]\n",
      "MSE for test set [264]  is [0.]\n",
      "MSE for test set [265]  is [0.]\n",
      "MSE for test set [266]  is [0.]\n",
      "MSE for test set [267]  is [0.]\n",
      "MSE for test set [268]  is [0.]\n",
      "MSE for test set [269]  is [0.]\n",
      "MSE for test set [270]  is [0.]\n",
      "MSE for test set [271]  is [1.]\n",
      "MSE for test set [272]  is [1.]\n",
      "MSE for test set [273]  is [1.]\n",
      "MSE for test set [274]  is [1.]\n",
      "MSE for test set [275]  is [0.]\n",
      "MSE for test set [276]  is [0.]\n",
      "MSE for test set [277]  is [0.]\n",
      "MSE for test set [278]  is [0.]\n",
      "MSE for test set [279]  is [1.]\n",
      "MSE for test set [280]  is [0.]\n",
      "MSE for test set [281]  is [0.]\n",
      "MSE for test set [282]  is [0.]\n",
      "MSE for test set [283]  is [0.]\n",
      "MSE for test set [284]  is [0.]\n",
      "MSE for test set [285]  is [0.]\n",
      "MSE for test set [286]  is [0.]\n",
      "MSE for test set [287]  is [0.]\n",
      "MSE for test set [288]  is [0.]\n",
      "MSE for test set [289]  is [0.]\n",
      "MSE for test set [290]  is [0.]\n",
      "MSE for test set [291]  is [1.]\n",
      "MSE for test set [292]  is [0.]\n",
      "MSE for test set [293]  is [0.]\n",
      "test estimate MSE loocv= 0.3197278911564626 , test estimate MSE standard err= 0.4663710612517717\n"
     ]
    }
   ],
   "source": [
    "N_loo = Xvals.shape[0]\n",
    "loo = LeaveOneOut()\n",
    "loo.get_n_splits(Xvals)\n",
    "MSE_vec = np.zeros(N_loo)\n",
    "y_pred_vals = []\n",
    "\n",
    "# This loop takes several minutes\n",
    "for train_index, test_index in loo.split(Xvals):\n",
    "    X_train, X_test = Xvals[train_index], Xvals[test_index]\n",
    "    y_train, y_test = yvals[train_index], yvals[test_index]\n",
    "    clf_nn = sklearn.neural_network.MLPClassifier()\n",
    "    clf_nn.fit(np.stack(X_train, axis=0), y_train)\n",
    "    y_pred = clf_nn.predict(np.stack(X_test, axis=0))\n",
    "    y_pred_vals.append(y_pred)\n",
    "    MSE_vec[test_index] = (y_test - y_pred) ** 2\n",
    "    print('MSE for test set', test_index, ' is', MSE_vec[test_index])\n",
    "\n",
    "MSE_loo = MSE_vec.mean()\n",
    "MSE_loo_std = MSE_vec.std()\n",
    "print('test estimate MSE loocv=', MSE_loo,\n",
    "      ', test estimate MSE standard err=', MSE_loo_std)"
   ]
  },
  {
   "cell_type": "code",
   "execution_count": 331,
   "metadata": {},
   "outputs": [
    {
     "name": "stdout",
     "output_type": "stream",
     "text": [
      "             precision    recall  f1-score   support\n",
      "\n",
      "          0       0.67      0.69      0.68       143\n",
      "          1       0.69      0.68      0.68       151\n",
      "\n",
      "avg / total       0.68      0.68      0.68       294\n",
      "\n"
     ]
    }
   ],
   "source": [
    "print(classification_report(yvals, np.asarray(y_pred_vals)))"
   ]
  },
  {
   "cell_type": "markdown",
   "metadata": {},
   "source": [
    "Not super great, but maybe it doesn't matter? As long as it works for more recent releases?"
   ]
  },
  {
   "cell_type": "markdown",
   "metadata": {},
   "source": [
    "#### For Bagging"
   ]
  },
  {
   "cell_type": "code",
   "execution_count": 333,
   "metadata": {},
   "outputs": [
    {
     "name": "stdout",
     "output_type": "stream",
     "text": [
      "MSE for test set [0]  is [0.]\n",
      "MSE for test set [1]  is [0.]\n",
      "MSE for test set [2]  is [0.]\n",
      "MSE for test set [3]  is [0.]\n",
      "MSE for test set [4]  is [0.]\n",
      "MSE for test set [5]  is [0.]\n",
      "MSE for test set [6]  is [0.]\n",
      "MSE for test set [7]  is [0.]\n",
      "MSE for test set [8]  is [0.]\n",
      "MSE for test set [9]  is [0.]\n",
      "MSE for test set [10]  is [0.]\n",
      "MSE for test set [11]  is [0.]\n",
      "MSE for test set [12]  is [0.]\n",
      "MSE for test set [13]  is [0.]\n",
      "MSE for test set [14]  is [0.]\n",
      "MSE for test set [15]  is [1.]\n",
      "MSE for test set [16]  is [1.]\n",
      "MSE for test set [17]  is [1.]\n",
      "MSE for test set [18]  is [1.]\n",
      "MSE for test set [19]  is [1.]\n",
      "MSE for test set [20]  is [1.]\n",
      "MSE for test set [21]  is [1.]\n",
      "MSE for test set [22]  is [0.]\n",
      "MSE for test set [23]  is [1.]\n",
      "MSE for test set [24]  is [1.]\n",
      "MSE for test set [25]  is [1.]\n",
      "MSE for test set [26]  is [1.]\n",
      "MSE for test set [27]  is [1.]\n",
      "MSE for test set [28]  is [1.]\n",
      "MSE for test set [29]  is [1.]\n",
      "MSE for test set [30]  is [1.]\n",
      "MSE for test set [31]  is [1.]\n",
      "MSE for test set [32]  is [1.]\n",
      "MSE for test set [33]  is [1.]\n",
      "MSE for test set [34]  is [1.]\n",
      "MSE for test set [35]  is [1.]\n",
      "MSE for test set [36]  is [1.]\n",
      "MSE for test set [37]  is [0.]\n",
      "MSE for test set [38]  is [0.]\n",
      "MSE for test set [39]  is [1.]\n",
      "MSE for test set [40]  is [0.]\n",
      "MSE for test set [41]  is [1.]\n",
      "MSE for test set [42]  is [0.]\n",
      "MSE for test set [43]  is [1.]\n",
      "MSE for test set [44]  is [1.]\n",
      "MSE for test set [45]  is [0.]\n",
      "MSE for test set [46]  is [1.]\n",
      "MSE for test set [47]  is [0.]\n",
      "MSE for test set [48]  is [1.]\n",
      "MSE for test set [49]  is [1.]\n",
      "MSE for test set [50]  is [1.]\n",
      "MSE for test set [51]  is [0.]\n",
      "MSE for test set [52]  is [0.]\n",
      "MSE for test set [53]  is [1.]\n",
      "MSE for test set [54]  is [0.]\n",
      "MSE for test set [55]  is [1.]\n",
      "MSE for test set [56]  is [1.]\n",
      "MSE for test set [57]  is [0.]\n",
      "MSE for test set [58]  is [0.]\n",
      "MSE for test set [59]  is [0.]\n",
      "MSE for test set [60]  is [1.]\n",
      "MSE for test set [61]  is [1.]\n",
      "MSE for test set [62]  is [0.]\n",
      "MSE for test set [63]  is [1.]\n",
      "MSE for test set [64]  is [0.]\n",
      "MSE for test set [65]  is [0.]\n",
      "MSE for test set [66]  is [0.]\n",
      "MSE for test set [67]  is [0.]\n",
      "MSE for test set [68]  is [1.]\n",
      "MSE for test set [69]  is [0.]\n",
      "MSE for test set [70]  is [1.]\n",
      "MSE for test set [71]  is [0.]\n",
      "MSE for test set [72]  is [0.]\n",
      "MSE for test set [73]  is [0.]\n",
      "MSE for test set [74]  is [0.]\n",
      "MSE for test set [75]  is [0.]\n",
      "MSE for test set [76]  is [0.]\n",
      "MSE for test set [77]  is [0.]\n",
      "MSE for test set [78]  is [1.]\n",
      "MSE for test set [79]  is [0.]\n",
      "MSE for test set [80]  is [1.]\n",
      "MSE for test set [81]  is [1.]\n",
      "MSE for test set [82]  is [1.]\n",
      "MSE for test set [83]  is [0.]\n",
      "MSE for test set [84]  is [0.]\n",
      "MSE for test set [85]  is [0.]\n",
      "MSE for test set [86]  is [0.]\n",
      "MSE for test set [87]  is [0.]\n",
      "MSE for test set [88]  is [0.]\n",
      "MSE for test set [89]  is [0.]\n",
      "MSE for test set [90]  is [0.]\n",
      "MSE for test set [91]  is [0.]\n",
      "MSE for test set [92]  is [0.]\n",
      "MSE for test set [93]  is [0.]\n",
      "MSE for test set [94]  is [0.]\n",
      "MSE for test set [95]  is [0.]\n",
      "MSE for test set [96]  is [1.]\n",
      "MSE for test set [97]  is [1.]\n",
      "MSE for test set [98]  is [1.]\n",
      "MSE for test set [99]  is [1.]\n",
      "MSE for test set [100]  is [0.]\n",
      "MSE for test set [101]  is [0.]\n",
      "MSE for test set [102]  is [0.]\n",
      "MSE for test set [103]  is [0.]\n",
      "MSE for test set [104]  is [1.]\n",
      "MSE for test set [105]  is [1.]\n",
      "MSE for test set [106]  is [0.]\n",
      "MSE for test set [107]  is [0.]\n",
      "MSE for test set [108]  is [1.]\n",
      "MSE for test set [109]  is [1.]\n",
      "MSE for test set [110]  is [1.]\n",
      "MSE for test set [111]  is [1.]\n",
      "MSE for test set [112]  is [1.]\n",
      "MSE for test set [113]  is [0.]\n",
      "MSE for test set [114]  is [0.]\n",
      "MSE for test set [115]  is [1.]\n",
      "MSE for test set [116]  is [0.]\n",
      "MSE for test set [117]  is [0.]\n",
      "MSE for test set [118]  is [0.]\n",
      "MSE for test set [119]  is [1.]\n",
      "MSE for test set [120]  is [1.]\n",
      "MSE for test set [121]  is [1.]\n",
      "MSE for test set [122]  is [0.]\n",
      "MSE for test set [123]  is [0.]\n",
      "MSE for test set [124]  is [1.]\n",
      "MSE for test set [125]  is [0.]\n",
      "MSE for test set [126]  is [0.]\n",
      "MSE for test set [127]  is [0.]\n",
      "MSE for test set [128]  is [0.]\n",
      "MSE for test set [129]  is [0.]\n",
      "MSE for test set [130]  is [0.]\n",
      "MSE for test set [131]  is [0.]\n",
      "MSE for test set [132]  is [0.]\n",
      "MSE for test set [133]  is [0.]\n",
      "MSE for test set [134]  is [0.]\n",
      "MSE for test set [135]  is [0.]\n",
      "MSE for test set [136]  is [0.]\n",
      "MSE for test set [137]  is [0.]\n",
      "MSE for test set [138]  is [0.]\n",
      "MSE for test set [139]  is [0.]\n",
      "MSE for test set [140]  is [0.]\n",
      "MSE for test set [141]  is [0.]\n",
      "MSE for test set [142]  is [0.]\n",
      "MSE for test set [143]  is [0.]\n",
      "MSE for test set [144]  is [0.]\n",
      "MSE for test set [145]  is [0.]\n",
      "MSE for test set [146]  is [0.]\n",
      "MSE for test set [147]  is [0.]\n",
      "MSE for test set [148]  is [0.]\n",
      "MSE for test set [149]  is [0.]\n",
      "MSE for test set [150]  is [0.]\n",
      "MSE for test set [151]  is [0.]\n",
      "MSE for test set [152]  is [0.]\n",
      "MSE for test set [153]  is [0.]\n",
      "MSE for test set [154]  is [0.]\n",
      "MSE for test set [155]  is [0.]\n",
      "MSE for test set [156]  is [0.]\n",
      "MSE for test set [157]  is [0.]\n",
      "MSE for test set [158]  is [0.]\n",
      "MSE for test set [159]  is [0.]\n",
      "MSE for test set [160]  is [0.]\n",
      "MSE for test set [161]  is [1.]\n",
      "MSE for test set [162]  is [1.]\n",
      "MSE for test set [163]  is [0.]\n",
      "MSE for test set [164]  is [1.]\n",
      "MSE for test set [165]  is [1.]\n",
      "MSE for test set [166]  is [1.]\n",
      "MSE for test set [167]  is [0.]\n",
      "MSE for test set [168]  is [0.]\n",
      "MSE for test set [169]  is [0.]\n",
      "MSE for test set [170]  is [1.]\n",
      "MSE for test set [171]  is [0.]\n",
      "MSE for test set [172]  is [0.]\n",
      "MSE for test set [173]  is [1.]\n",
      "MSE for test set [174]  is [0.]\n",
      "MSE for test set [175]  is [0.]\n",
      "MSE for test set [176]  is [0.]\n",
      "MSE for test set [177]  is [1.]\n",
      "MSE for test set [178]  is [1.]\n",
      "MSE for test set [179]  is [0.]\n",
      "MSE for test set [180]  is [0.]\n",
      "MSE for test set [181]  is [1.]\n",
      "MSE for test set [182]  is [0.]\n",
      "MSE for test set [183]  is [0.]\n",
      "MSE for test set [184]  is [0.]\n",
      "MSE for test set [185]  is [1.]\n",
      "MSE for test set [186]  is [1.]\n",
      "MSE for test set [187]  is [0.]\n",
      "MSE for test set [188]  is [0.]\n",
      "MSE for test set [189]  is [0.]\n",
      "MSE for test set [190]  is [0.]\n",
      "MSE for test set [191]  is [0.]\n",
      "MSE for test set [192]  is [1.]\n",
      "MSE for test set [193]  is [0.]\n",
      "MSE for test set [194]  is [0.]\n",
      "MSE for test set [195]  is [0.]\n",
      "MSE for test set [196]  is [1.]\n",
      "MSE for test set [197]  is [0.]\n",
      "MSE for test set [198]  is [0.]\n",
      "MSE for test set [199]  is [1.]\n",
      "MSE for test set [200]  is [0.]\n",
      "MSE for test set [201]  is [0.]\n",
      "MSE for test set [202]  is [0.]\n",
      "MSE for test set [203]  is [0.]\n",
      "MSE for test set [204]  is [0.]\n",
      "MSE for test set [205]  is [0.]\n",
      "MSE for test set [206]  is [0.]\n",
      "MSE for test set [207]  is [1.]\n",
      "MSE for test set [208]  is [1.]\n",
      "MSE for test set [209]  is [0.]\n",
      "MSE for test set [210]  is [0.]\n",
      "MSE for test set [211]  is [1.]\n",
      "MSE for test set [212]  is [0.]\n",
      "MSE for test set [213]  is [0.]\n",
      "MSE for test set [214]  is [1.]\n",
      "MSE for test set [215]  is [1.]\n",
      "MSE for test set [216]  is [0.]\n",
      "MSE for test set [217]  is [0.]\n",
      "MSE for test set [218]  is [0.]\n",
      "MSE for test set [219]  is [0.]\n",
      "MSE for test set [220]  is [1.]\n",
      "MSE for test set [221]  is [1.]\n",
      "MSE for test set [222]  is [1.]\n",
      "MSE for test set [223]  is [0.]\n",
      "MSE for test set [224]  is [0.]\n",
      "MSE for test set [225]  is [0.]\n",
      "MSE for test set [226]  is [1.]\n",
      "MSE for test set [227]  is [1.]\n",
      "MSE for test set [228]  is [1.]\n",
      "MSE for test set [229]  is [0.]\n",
      "MSE for test set [230]  is [1.]\n",
      "MSE for test set [231]  is [0.]\n",
      "MSE for test set [232]  is [0.]\n",
      "MSE for test set [233]  is [1.]\n",
      "MSE for test set [234]  is [1.]\n",
      "MSE for test set [235]  is [0.]\n",
      "MSE for test set [236]  is [0.]\n",
      "MSE for test set [237]  is [1.]\n",
      "MSE for test set [238]  is [1.]\n",
      "MSE for test set [239]  is [0.]\n",
      "MSE for test set [240]  is [0.]\n",
      "MSE for test set [241]  is [1.]\n",
      "MSE for test set [242]  is [0.]\n",
      "MSE for test set [243]  is [0.]\n",
      "MSE for test set [244]  is [0.]\n",
      "MSE for test set [245]  is [0.]\n",
      "MSE for test set [246]  is [0.]\n",
      "MSE for test set [247]  is [0.]\n",
      "MSE for test set [248]  is [0.]\n",
      "MSE for test set [249]  is [0.]\n",
      "MSE for test set [250]  is [1.]\n",
      "MSE for test set [251]  is [1.]\n",
      "MSE for test set [252]  is [1.]\n",
      "MSE for test set [253]  is [1.]\n",
      "MSE for test set [254]  is [1.]\n",
      "MSE for test set [255]  is [1.]\n",
      "MSE for test set [256]  is [1.]\n",
      "MSE for test set [257]  is [0.]\n",
      "MSE for test set [258]  is [0.]\n",
      "MSE for test set [259]  is [0.]\n"
     ]
    },
    {
     "name": "stdout",
     "output_type": "stream",
     "text": [
      "MSE for test set [260]  is [0.]\n",
      "MSE for test set [261]  is [0.]\n",
      "MSE for test set [262]  is [0.]\n",
      "MSE for test set [263]  is [0.]\n",
      "MSE for test set [264]  is [0.]\n",
      "MSE for test set [265]  is [0.]\n",
      "MSE for test set [266]  is [0.]\n",
      "MSE for test set [267]  is [0.]\n",
      "MSE for test set [268]  is [1.]\n",
      "MSE for test set [269]  is [0.]\n",
      "MSE for test set [270]  is [0.]\n",
      "MSE for test set [271]  is [1.]\n",
      "MSE for test set [272]  is [0.]\n",
      "MSE for test set [273]  is [1.]\n",
      "MSE for test set [274]  is [0.]\n",
      "MSE for test set [275]  is [0.]\n",
      "MSE for test set [276]  is [0.]\n",
      "MSE for test set [277]  is [0.]\n",
      "MSE for test set [278]  is [0.]\n",
      "MSE for test set [279]  is [1.]\n",
      "MSE for test set [280]  is [0.]\n",
      "MSE for test set [281]  is [0.]\n",
      "MSE for test set [282]  is [0.]\n",
      "MSE for test set [283]  is [0.]\n",
      "MSE for test set [284]  is [0.]\n",
      "MSE for test set [285]  is [0.]\n",
      "MSE for test set [286]  is [0.]\n",
      "MSE for test set [287]  is [0.]\n",
      "MSE for test set [288]  is [0.]\n",
      "MSE for test set [289]  is [0.]\n",
      "MSE for test set [290]  is [0.]\n",
      "MSE for test set [291]  is [0.]\n",
      "MSE for test set [292]  is [0.]\n",
      "MSE for test set [293]  is [0.]\n",
      "test estimate MSE loocv= 0.3401360544217687 , test estimate MSE standard err= 0.4737547033055824\n"
     ]
    }
   ],
   "source": [
    "y_pred_vals2 = []\n",
    "#this loop takes several minutes\n",
    "for train_index, test_index in loo.split(Xvals):\n",
    "    X_train, X_test = Xvals[train_index], Xvals[test_index]\n",
    "    y_train, y_test = yvals[train_index], yvals[test_index]\n",
    "    tree = sklearn.tree.DecisionTreeClassifier(max_depth=10) #Create an instance of our decision tree classifier.\n",
    "    bag = sklearn.ensemble.BaggingClassifier(tree, n_estimators=100, max_samples=0.8, random_state=1) #Each tree uses up to 80% of the data\n",
    "    bag.fit(np.stack(X_train, axis =0), y_train) #Fit the bagged classifier\n",
    "    y_pred = bag.predict(np.stack(X_test, axis=0))\n",
    "    y_pred_vals2.append(y_pred)\n",
    "    MSE_vec[test_index] = (y_test - y_pred) ** 2\n",
    "    print('MSE for test set', test_index, ' is', MSE_vec[test_index])\n",
    "\n",
    "MSE_loo = MSE_vec.mean()\n",
    "MSE_loo_std = MSE_vec.std()\n",
    "print('test estimate MSE loocv=', MSE_loo,\n",
    "      ', test estimate MSE standard err=', MSE_loo_std)"
   ]
  },
  {
   "cell_type": "code",
   "execution_count": 334,
   "metadata": {},
   "outputs": [
    {
     "name": "stdout",
     "output_type": "stream",
     "text": [
      "             precision    recall  f1-score   support\n",
      "\n",
      "          0       0.70      0.52      0.60       143\n",
      "          1       0.64      0.79      0.70       151\n",
      "\n",
      "avg / total       0.67      0.66      0.65       294\n",
      "\n"
     ]
    }
   ],
   "source": [
    "print(classification_report(yvals, np.asarray(y_pred_vals2)))"
   ]
  },
  {
   "cell_type": "code",
   "execution_count": null,
   "metadata": {
    "collapsed": true
   },
   "outputs": [],
   "source": []
  }
 ],
 "metadata": {
  "kernelspec": {
   "display_name": "Python 3",
   "language": "python",
   "name": "python3"
  },
  "language_info": {
   "codemirror_mode": {
    "name": "ipython",
    "version": 3
   },
   "file_extension": ".py",
   "mimetype": "text/x-python",
   "name": "python",
   "nbconvert_exporter": "python",
   "pygments_lexer": "ipython3",
   "version": "3.6.1"
  }
 },
 "nbformat": 4,
 "nbformat_minor": 2
}
