{
 "cells": [
  {
   "cell_type": "markdown",
   "metadata": {},
   "source": [
    "Notebook outlining what functions from nltk will be useful for pre-processing the text and training the classification algorithm.\n",
    "\n",
    "Expects a CSV file in the current directory containing a release's date, text, and classification (pos or neg) in each row."
   ]
  },
  {
   "cell_type": "code",
   "execution_count": 30,
   "metadata": {
    "collapsed": true
   },
   "outputs": [],
   "source": [
    "import pandas as pd\n",
    "import nltk\n",
    "import re\n",
    "\n",
    "import sklearn"
   ]
  },
  {
   "cell_type": "markdown",
   "metadata": {},
   "source": [
    "Some pre-processing to get the dataframe into the format we need for content analysis."
   ]
  },
  {
   "cell_type": "code",
   "execution_count": 22,
   "metadata": {
    "collapsed": true
   },
   "outputs": [],
   "source": [
    "release_df = pd.read_csv('release_df.csv', index_col=0)"
   ]
  },
  {
   "cell_type": "code",
   "execution_count": 15,
   "metadata": {
    "collapsed": true
   },
   "outputs": [],
   "source": [
    "release_df['year'] = release_df['date'].apply(lambda x: int(x[-4:]))"
   ]
  },
  {
   "cell_type": "code",
   "execution_count": 29,
   "metadata": {
    "collapsed": true
   },
   "outputs": [],
   "source": [
    "release_df['month'] = release_df['date'].apply(lambda x: re.findall(r'(\\w+) \\d', x)[0])"
   ]
  },
  {
   "cell_type": "code",
   "execution_count": 23,
   "metadata": {},
   "outputs": [
    {
     "data": {
      "text/html": [
       "<div>\n",
       "<style scoped>\n",
       "    .dataframe tbody tr th:only-of-type {\n",
       "        vertical-align: middle;\n",
       "    }\n",
       "\n",
       "    .dataframe tbody tr th {\n",
       "        vertical-align: top;\n",
       "    }\n",
       "\n",
       "    .dataframe thead th {\n",
       "        text-align: right;\n",
       "    }\n",
       "</style>\n",
       "<table border=\"1\" class=\"dataframe\">\n",
       "  <thead>\n",
       "    <tr style=\"text-align: right;\">\n",
       "      <th></th>\n",
       "      <th>date</th>\n",
       "      <th>release_text</th>\n",
       "      <th>year</th>\n",
       "      <th>month</th>\n",
       "    </tr>\n",
       "  </thead>\n",
       "  <tbody>\n",
       "    <tr>\n",
       "      <th>0</th>\n",
       "      <td>January 31, 2018</td>\n",
       "      <td>Information received since the Federal Open Ma...</td>\n",
       "      <td>2018</td>\n",
       "      <td>January</td>\n",
       "    </tr>\n",
       "    <tr>\n",
       "      <th>1</th>\n",
       "      <td>February 01, 2017</td>\n",
       "      <td>Information received since the Federal Open Ma...</td>\n",
       "      <td>2017</td>\n",
       "      <td>February</td>\n",
       "    </tr>\n",
       "    <tr>\n",
       "      <th>2</th>\n",
       "      <td>March 15, 2017</td>\n",
       "      <td>Information received since the Federal Open Ma...</td>\n",
       "      <td>2017</td>\n",
       "      <td>March</td>\n",
       "    </tr>\n",
       "    <tr>\n",
       "      <th>3</th>\n",
       "      <td>May 03, 2017</td>\n",
       "      <td>Information received since the Federal Open Ma...</td>\n",
       "      <td>2017</td>\n",
       "      <td>May</td>\n",
       "    </tr>\n",
       "    <tr>\n",
       "      <th>4</th>\n",
       "      <td>June 14, 2017</td>\n",
       "      <td>Information received since the Federal Open Ma...</td>\n",
       "      <td>2017</td>\n",
       "      <td>June</td>\n",
       "    </tr>\n",
       "    <tr>\n",
       "      <th>5</th>\n",
       "      <td>July 26, 2017</td>\n",
       "      <td>Information received since the Federal Open Ma...</td>\n",
       "      <td>2017</td>\n",
       "      <td>July</td>\n",
       "    </tr>\n",
       "    <tr>\n",
       "      <th>6</th>\n",
       "      <td>September 20, 2017</td>\n",
       "      <td>Information received since the Federal Open Ma...</td>\n",
       "      <td>2017</td>\n",
       "      <td>September</td>\n",
       "    </tr>\n",
       "    <tr>\n",
       "      <th>7</th>\n",
       "      <td>November 01, 2017</td>\n",
       "      <td>Information received since the Federal Open Ma...</td>\n",
       "      <td>2017</td>\n",
       "      <td>November</td>\n",
       "    </tr>\n",
       "    <tr>\n",
       "      <th>8</th>\n",
       "      <td>December 13, 2017</td>\n",
       "      <td>Information received since the Federal Open Ma...</td>\n",
       "      <td>2017</td>\n",
       "      <td>December</td>\n",
       "    </tr>\n",
       "    <tr>\n",
       "      <th>9</th>\n",
       "      <td>January 27, 2016</td>\n",
       "      <td>Information received since the Federal Open Ma...</td>\n",
       "      <td>2016</td>\n",
       "      <td>January</td>\n",
       "    </tr>\n",
       "  </tbody>\n",
       "</table>\n",
       "</div>"
      ],
      "text/plain": [
       "                 date                                       release_text  \\\n",
       "0    January 31, 2018  Information received since the Federal Open Ma...   \n",
       "1   February 01, 2017  Information received since the Federal Open Ma...   \n",
       "2      March 15, 2017  Information received since the Federal Open Ma...   \n",
       "3        May 03, 2017  Information received since the Federal Open Ma...   \n",
       "4       June 14, 2017  Information received since the Federal Open Ma...   \n",
       "5       July 26, 2017  Information received since the Federal Open Ma...   \n",
       "6  September 20, 2017  Information received since the Federal Open Ma...   \n",
       "7   November 01, 2017  Information received since the Federal Open Ma...   \n",
       "8   December 13, 2017  Information received since the Federal Open Ma...   \n",
       "9    January 27, 2016  Information received since the Federal Open Ma...   \n",
       "\n",
       "   year      month  \n",
       "0  2018    January  \n",
       "1  2017   February  \n",
       "2  2017      March  \n",
       "3  2017        May  \n",
       "4  2017       June  \n",
       "5  2017       July  \n",
       "6  2017  September  \n",
       "7  2017   November  \n",
       "8  2017   December  \n",
       "9  2016    January  "
      ]
     },
     "execution_count": 23,
     "metadata": {},
     "output_type": "execute_result"
    }
   ],
   "source": [
    "release_df[:10]"
   ]
  },
  {
   "cell_type": "code",
   "execution_count": 24,
   "metadata": {
    "collapsed": true
   },
   "outputs": [],
   "source": [
    "testrelease_df = release_df[(release_df['year']==2017) | (release_df['year']==2018)]"
   ]
  },
  {
   "cell_type": "code",
   "execution_count": 26,
   "metadata": {
    "collapsed": true
   },
   "outputs": [],
   "source": [
    "trainrelease_df = release_df.iloc[9:]"
   ]
  },
  {
   "cell_type": "code",
   "execution_count": 29,
   "metadata": {},
   "outputs": [
    {
     "data": {
      "text/html": [
       "<div>\n",
       "<style scoped>\n",
       "    .dataframe tbody tr th:only-of-type {\n",
       "        vertical-align: middle;\n",
       "    }\n",
       "\n",
       "    .dataframe tbody tr th {\n",
       "        vertical-align: top;\n",
       "    }\n",
       "\n",
       "    .dataframe thead th {\n",
       "        text-align: right;\n",
       "    }\n",
       "</style>\n",
       "<table border=\"1\" class=\"dataframe\">\n",
       "  <thead>\n",
       "    <tr style=\"text-align: right;\">\n",
       "      <th></th>\n",
       "      <th>date</th>\n",
       "      <th>release_text</th>\n",
       "      <th>year</th>\n",
       "      <th>month</th>\n",
       "    </tr>\n",
       "  </thead>\n",
       "  <tbody>\n",
       "    <tr>\n",
       "      <th>0</th>\n",
       "      <td>January 31, 2018</td>\n",
       "      <td>Information received since the Federal Open Ma...</td>\n",
       "      <td>2018</td>\n",
       "      <td>January</td>\n",
       "    </tr>\n",
       "    <tr>\n",
       "      <th>1</th>\n",
       "      <td>February 01, 2017</td>\n",
       "      <td>Information received since the Federal Open Ma...</td>\n",
       "      <td>2017</td>\n",
       "      <td>February</td>\n",
       "    </tr>\n",
       "    <tr>\n",
       "      <th>2</th>\n",
       "      <td>March 15, 2017</td>\n",
       "      <td>Information received since the Federal Open Ma...</td>\n",
       "      <td>2017</td>\n",
       "      <td>March</td>\n",
       "    </tr>\n",
       "    <tr>\n",
       "      <th>3</th>\n",
       "      <td>May 03, 2017</td>\n",
       "      <td>Information received since the Federal Open Ma...</td>\n",
       "      <td>2017</td>\n",
       "      <td>May</td>\n",
       "    </tr>\n",
       "    <tr>\n",
       "      <th>4</th>\n",
       "      <td>June 14, 2017</td>\n",
       "      <td>Information received since the Federal Open Ma...</td>\n",
       "      <td>2017</td>\n",
       "      <td>June</td>\n",
       "    </tr>\n",
       "  </tbody>\n",
       "</table>\n",
       "</div>"
      ],
      "text/plain": [
       "                date                                       release_text  year  \\\n",
       "0   January 31, 2018  Information received since the Federal Open Ma...  2018   \n",
       "1  February 01, 2017  Information received since the Federal Open Ma...  2017   \n",
       "2     March 15, 2017  Information received since the Federal Open Ma...  2017   \n",
       "3       May 03, 2017  Information received since the Federal Open Ma...  2017   \n",
       "4      June 14, 2017  Information received since the Federal Open Ma...  2017   \n",
       "\n",
       "      month  \n",
       "0   January  \n",
       "1  February  \n",
       "2     March  \n",
       "3       May  \n",
       "4      June  "
      ]
     },
     "execution_count": 29,
     "metadata": {},
     "output_type": "execute_result"
    }
   ],
   "source": [
    "testrelease_df[:5]"
   ]
  },
  {
   "cell_type": "code",
   "execution_count": 28,
   "metadata": {},
   "outputs": [
    {
     "data": {
      "text/html": [
       "<div>\n",
       "<style scoped>\n",
       "    .dataframe tbody tr th:only-of-type {\n",
       "        vertical-align: middle;\n",
       "    }\n",
       "\n",
       "    .dataframe tbody tr th {\n",
       "        vertical-align: top;\n",
       "    }\n",
       "\n",
       "    .dataframe thead th {\n",
       "        text-align: right;\n",
       "    }\n",
       "</style>\n",
       "<table border=\"1\" class=\"dataframe\">\n",
       "  <thead>\n",
       "    <tr style=\"text-align: right;\">\n",
       "      <th></th>\n",
       "      <th>date</th>\n",
       "      <th>release_text</th>\n",
       "      <th>year</th>\n",
       "      <th>month</th>\n",
       "    </tr>\n",
       "  </thead>\n",
       "  <tbody>\n",
       "    <tr>\n",
       "      <th>9</th>\n",
       "      <td>January 27, 2016</td>\n",
       "      <td>Information received since the Federal Open Ma...</td>\n",
       "      <td>2016</td>\n",
       "      <td>January</td>\n",
       "    </tr>\n",
       "    <tr>\n",
       "      <th>10</th>\n",
       "      <td>March 16, 2016</td>\n",
       "      <td>Information received since the Federal Open Ma...</td>\n",
       "      <td>2016</td>\n",
       "      <td>March</td>\n",
       "    </tr>\n",
       "    <tr>\n",
       "      <th>11</th>\n",
       "      <td>April 27, 2016</td>\n",
       "      <td>Information received since the Federal Open Ma...</td>\n",
       "      <td>2016</td>\n",
       "      <td>April</td>\n",
       "    </tr>\n",
       "    <tr>\n",
       "      <th>12</th>\n",
       "      <td>June 15, 2016</td>\n",
       "      <td>Information received since the Federal Open Ma...</td>\n",
       "      <td>2016</td>\n",
       "      <td>June</td>\n",
       "    </tr>\n",
       "    <tr>\n",
       "      <th>13</th>\n",
       "      <td>July 27, 2016</td>\n",
       "      <td>Information received since the Federal Open Ma...</td>\n",
       "      <td>2016</td>\n",
       "      <td>July</td>\n",
       "    </tr>\n",
       "  </tbody>\n",
       "</table>\n",
       "</div>"
      ],
      "text/plain": [
       "                date                                       release_text  year  \\\n",
       "9   January 27, 2016  Information received since the Federal Open Ma...  2016   \n",
       "10    March 16, 2016  Information received since the Federal Open Ma...  2016   \n",
       "11    April 27, 2016  Information received since the Federal Open Ma...  2016   \n",
       "12     June 15, 2016  Information received since the Federal Open Ma...  2016   \n",
       "13     July 27, 2016  Information received since the Federal Open Ma...  2016   \n",
       "\n",
       "      month  \n",
       "9   January  \n",
       "10    March  \n",
       "11    April  \n",
       "12     June  \n",
       "13     July  "
      ]
     },
     "execution_count": 28,
     "metadata": {},
     "output_type": "execute_result"
    }
   ],
   "source": [
    "trainrelease_df[:5]"
   ]
  },
  {
   "cell_type": "markdown",
   "metadata": {},
   "source": [
    "Now text processing using `nltk`."
   ]
  },
  {
   "cell_type": "code",
   "execution_count": null,
   "metadata": {
    "collapsed": true
   },
   "outputs": [],
   "source": [
    "#release_df['tokenized'] = release_df['text']"
   ]
  },
  {
   "cell_type": "code",
   "execution_count": null,
   "metadata": {
    "collapsed": true
   },
   "outputs": [],
   "source": [
    "releaseTFVectorizer = sklearn.feature_extraction.text.TfidfVectorizer(max_df=0.5, min_df=3, stop_words='english', norm='l2')"
   ]
  }
 ],
 "metadata": {
  "kernelspec": {
   "display_name": "Python 3",
   "language": "python",
   "name": "python3"
  },
  "language_info": {
   "codemirror_mode": {
    "name": "ipython",
    "version": 3
   },
   "file_extension": ".py",
   "mimetype": "text/x-python",
   "name": "python",
   "nbconvert_exporter": "python",
   "pygments_lexer": "ipython3",
   "version": "3.6.1"
  }
 },
 "nbformat": 4,
 "nbformat_minor": 2
}
