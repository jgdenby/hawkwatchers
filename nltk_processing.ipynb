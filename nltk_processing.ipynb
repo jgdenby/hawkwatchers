{
 "cells": [
  {
   "cell_type": "markdown",
   "metadata": {},
   "source": [
    "Notebook outlining what functions from nltk will be useful for pre-processing the text and training the classification algorithm.\n",
    "\n",
    "Expects a CSV file in the current directory containing a release's date, text, and classification (pos or neg) in each row."
   ]
  },
  {
   "cell_type": "code",
   "execution_count": 196,
   "metadata": {
    "collapsed": false
   },
   "outputs": [],
   "source": [
    "import math\n",
    "import pandas as pd\n",
    "import nltk\n",
    "import re\n",
    "import numpy as np\n",
    "import matplotlib.pyplot as plt\n",
    "\n",
    "import sklearn\n",
    "import sklearn.naive_bayes\n",
    "import sklearn.tree\n",
    "import sklearn.ensemble\n",
    "import sklearn.neural_network\n",
    "import sklearn.decomposition\n",
    "\n",
    "from sklearn import decomposition, linear_model\n",
    "from sklearn.model_selection import train_test_split\n",
    "from sklearn.metrics import confusion_matrix"
   ]
  },
  {
   "cell_type": "markdown",
   "metadata": {},
   "source": [
    "Some pre-processing to get the dataframe into the format we need for content analysis."
   ]
  },
  {
   "cell_type": "code",
   "execution_count": 3,
   "metadata": {
    "collapsed": true
   },
   "outputs": [],
   "source": [
    "release_df = pd.read_csv('release_df.csv', index_col=0)"
   ]
  },
  {
   "cell_type": "code",
   "execution_count": 4,
   "metadata": {
    "collapsed": false,
    "scrolled": false
   },
   "outputs": [
    {
     "data": {
      "text/html": [
       "<div>\n",
       "<style scoped>\n",
       "    .dataframe tbody tr th:only-of-type {\n",
       "        vertical-align: middle;\n",
       "    }\n",
       "\n",
       "    .dataframe tbody tr th {\n",
       "        vertical-align: top;\n",
       "    }\n",
       "\n",
       "    .dataframe thead th {\n",
       "        text-align: right;\n",
       "    }\n",
       "</style>\n",
       "<table border=\"1\" class=\"dataframe\">\n",
       "  <thead>\n",
       "    <tr style=\"text-align: right;\">\n",
       "      <th></th>\n",
       "      <th>date</th>\n",
       "      <th>release_text</th>\n",
       "      <th>year</th>\n",
       "      <th>month</th>\n",
       "    </tr>\n",
       "  </thead>\n",
       "  <tbody>\n",
       "    <tr>\n",
       "      <th>80</th>\n",
       "      <td>August 05, 2008</td>\n",
       "      <td>The Federal Open Market Committee decided toda...</td>\n",
       "      <td>2008</td>\n",
       "      <td>August</td>\n",
       "    </tr>\n",
       "    <tr>\n",
       "      <th>81</th>\n",
       "      <td>September 16, 2008</td>\n",
       "      <td>The Federal Open Market Committee decided toda...</td>\n",
       "      <td>2008</td>\n",
       "      <td>September</td>\n",
       "    </tr>\n",
       "    <tr>\n",
       "      <th>82</th>\n",
       "      <td>October 08, 2008</td>\n",
       "      <td>Joint Statement by Central Banks\\nThroughout t...</td>\n",
       "      <td>2008</td>\n",
       "      <td>October</td>\n",
       "    </tr>\n",
       "    <tr>\n",
       "      <th>83</th>\n",
       "      <td>October 29, 2008</td>\n",
       "      <td>The Federal Open Market Committee decided toda...</td>\n",
       "      <td>2008</td>\n",
       "      <td>October</td>\n",
       "    </tr>\n",
       "    <tr>\n",
       "      <th>84</th>\n",
       "      <td>December 16, 2008</td>\n",
       "      <td>The Federal Open Market Committee decided toda...</td>\n",
       "      <td>2008</td>\n",
       "      <td>December</td>\n",
       "    </tr>\n",
       "  </tbody>\n",
       "</table>\n",
       "</div>"
      ],
      "text/plain": [
       "                  date                                       release_text  \\\n",
       "80     August 05, 2008  The Federal Open Market Committee decided toda...   \n",
       "81  September 16, 2008  The Federal Open Market Committee decided toda...   \n",
       "82    October 08, 2008  Joint Statement by Central Banks\\nThroughout t...   \n",
       "83    October 29, 2008  The Federal Open Market Committee decided toda...   \n",
       "84   December 16, 2008  The Federal Open Market Committee decided toda...   \n",
       "\n",
       "    year      month  \n",
       "80  2008     August  \n",
       "81  2008  September  \n",
       "82  2008    October  \n",
       "83  2008    October  \n",
       "84  2008   December  "
      ]
     },
     "execution_count": 4,
     "metadata": {},
     "output_type": "execute_result"
    }
   ],
   "source": [
    "release_df.tail()"
   ]
  },
  {
   "cell_type": "markdown",
   "metadata": {},
   "source": [
    "- Need to add historical text data. DONE\n",
    "- Need to add historical rate data. DONE\n",
    "- Need to merge two datasets. DONE"
   ]
  },
  {
   "cell_type": "markdown",
   "metadata": {},
   "source": [
    "`allratesdf.csv` contains cleaned DataFrame of all relevant rate changes from 1960."
   ]
  },
  {
   "cell_type": "code",
   "execution_count": 33,
   "metadata": {
    "collapsed": true
   },
   "outputs": [],
   "source": [
    "allratesdf = pd.read_csv('allratesdf.csv', index_col=0)"
   ]
  },
  {
   "cell_type": "code",
   "execution_count": 63,
   "metadata": {
    "collapsed": false
   },
   "outputs": [
    {
     "data": {
      "text/html": [
       "<div>\n",
       "<style scoped>\n",
       "    .dataframe tbody tr th:only-of-type {\n",
       "        vertical-align: middle;\n",
       "    }\n",
       "\n",
       "    .dataframe tbody tr th {\n",
       "        vertical-align: top;\n",
       "    }\n",
       "\n",
       "    .dataframe thead th {\n",
       "        text-align: right;\n",
       "    }\n",
       "</style>\n",
       "<table border=\"1\" class=\"dataframe\">\n",
       "  <thead>\n",
       "    <tr style=\"text-align: right;\">\n",
       "      <th></th>\n",
       "      <th>month</th>\n",
       "      <th>year</th>\n",
       "      <th>Change</th>\n",
       "      <th>increase</th>\n",
       "    </tr>\n",
       "  </thead>\n",
       "  <tbody>\n",
       "    <tr>\n",
       "      <th>0</th>\n",
       "      <td>February</td>\n",
       "      <td>1994</td>\n",
       "      <td>0.07</td>\n",
       "      <td>True</td>\n",
       "    </tr>\n",
       "    <tr>\n",
       "      <th>1</th>\n",
       "      <td>March</td>\n",
       "      <td>1994</td>\n",
       "      <td>0.03</td>\n",
       "      <td>True</td>\n",
       "    </tr>\n",
       "    <tr>\n",
       "      <th>2</th>\n",
       "      <td>April</td>\n",
       "      <td>1994</td>\n",
       "      <td>0.07</td>\n",
       "      <td>True</td>\n",
       "    </tr>\n",
       "    <tr>\n",
       "      <th>3</th>\n",
       "      <td>May</td>\n",
       "      <td>1994</td>\n",
       "      <td>0.13</td>\n",
       "      <td>True</td>\n",
       "    </tr>\n",
       "    <tr>\n",
       "      <th>4</th>\n",
       "      <td>June</td>\n",
       "      <td>1994</td>\n",
       "      <td>0.06</td>\n",
       "      <td>True</td>\n",
       "    </tr>\n",
       "  </tbody>\n",
       "</table>\n",
       "</div>"
      ],
      "text/plain": [
       "      month  year  Change  increase\n",
       "0  February  1994    0.07      True\n",
       "1     March  1994    0.03      True\n",
       "2     April  1994    0.07      True\n",
       "3       May  1994    0.13      True\n",
       "4      June  1994    0.06      True"
      ]
     },
     "execution_count": 63,
     "metadata": {},
     "output_type": "execute_result"
    }
   ],
   "source": [
    "allratesdf.head()"
   ]
  },
  {
   "cell_type": "markdown",
   "metadata": {},
   "source": [
    "`ratesfrom06` is a cleaned DataFrame with rates from 2006 on, which is our set for analysis."
   ]
  },
  {
   "cell_type": "code",
   "execution_count": 39,
   "metadata": {
    "collapsed": true
   },
   "outputs": [],
   "source": [
    "ratesfrom06 = allratesdf.iloc[143:]"
   ]
  },
  {
   "cell_type": "code",
   "execution_count": 41,
   "metadata": {
    "collapsed": true
   },
   "outputs": [],
   "source": [
    "ratesfrom06.reset_index(inplace=True, drop=True)"
   ]
  },
  {
   "cell_type": "code",
   "execution_count": 43,
   "metadata": {
    "collapsed": false
   },
   "outputs": [
    {
     "data": {
      "text/html": [
       "<div>\n",
       "<style scoped>\n",
       "    .dataframe tbody tr th:only-of-type {\n",
       "        vertical-align: middle;\n",
       "    }\n",
       "\n",
       "    .dataframe tbody tr th {\n",
       "        vertical-align: top;\n",
       "    }\n",
       "\n",
       "    .dataframe thead th {\n",
       "        text-align: right;\n",
       "    }\n",
       "</style>\n",
       "<table border=\"1\" class=\"dataframe\">\n",
       "  <thead>\n",
       "    <tr style=\"text-align: right;\">\n",
       "      <th></th>\n",
       "      <th>month</th>\n",
       "      <th>year</th>\n",
       "      <th>Change</th>\n",
       "      <th>increase</th>\n",
       "    </tr>\n",
       "  </thead>\n",
       "  <tbody>\n",
       "    <tr>\n",
       "      <th>0</th>\n",
       "      <td>January</td>\n",
       "      <td>2006</td>\n",
       "      <td>0.03</td>\n",
       "      <td>True</td>\n",
       "    </tr>\n",
       "    <tr>\n",
       "      <th>1</th>\n",
       "      <td>February</td>\n",
       "      <td>2006</td>\n",
       "      <td>0.05</td>\n",
       "      <td>True</td>\n",
       "    </tr>\n",
       "    <tr>\n",
       "      <th>2</th>\n",
       "      <td>March</td>\n",
       "      <td>2006</td>\n",
       "      <td>0.02</td>\n",
       "      <td>True</td>\n",
       "    </tr>\n",
       "    <tr>\n",
       "      <th>3</th>\n",
       "      <td>April</td>\n",
       "      <td>2006</td>\n",
       "      <td>0.04</td>\n",
       "      <td>True</td>\n",
       "    </tr>\n",
       "    <tr>\n",
       "      <th>4</th>\n",
       "      <td>May</td>\n",
       "      <td>2006</td>\n",
       "      <td>0.03</td>\n",
       "      <td>True</td>\n",
       "    </tr>\n",
       "  </tbody>\n",
       "</table>\n",
       "</div>"
      ],
      "text/plain": [
       "      month  year  Change  increase\n",
       "0   January  2006    0.03      True\n",
       "1  February  2006    0.05      True\n",
       "2     March  2006    0.02      True\n",
       "3     April  2006    0.04      True\n",
       "4       May  2006    0.03      True"
      ]
     },
     "execution_count": 43,
     "metadata": {},
     "output_type": "execute_result"
    }
   ],
   "source": [
    "ratesfrom06.head()"
   ]
  },
  {
   "cell_type": "markdown",
   "metadata": {},
   "source": [
    "Now, to merge the text and rates DataFrames and clean the result. `releaserates_df` has all rate changes since 2006 and their associated release text."
   ]
  },
  {
   "cell_type": "code",
   "execution_count": 76,
   "metadata": {
    "collapsed": true
   },
   "outputs": [],
   "source": [
    "#releaserates_df = ratesfrom06.merge(release_df, how='left', on=['year', 'month'])\n",
    "#releaserates_df = releaseratesdf.ffill()\n",
    "releaserates_df = pd.read_csv('releaserates_df.csv', index_col=0)"
   ]
  },
  {
   "cell_type": "code",
   "execution_count": 78,
   "metadata": {
    "collapsed": false
   },
   "outputs": [
    {
     "data": {
      "text/html": [
       "<div>\n",
       "<style scoped>\n",
       "    .dataframe tbody tr th:only-of-type {\n",
       "        vertical-align: middle;\n",
       "    }\n",
       "\n",
       "    .dataframe tbody tr th {\n",
       "        vertical-align: top;\n",
       "    }\n",
       "\n",
       "    .dataframe thead th {\n",
       "        text-align: right;\n",
       "    }\n",
       "</style>\n",
       "<table border=\"1\" class=\"dataframe\">\n",
       "  <thead>\n",
       "    <tr style=\"text-align: right;\">\n",
       "      <th></th>\n",
       "      <th>month</th>\n",
       "      <th>year</th>\n",
       "      <th>Change</th>\n",
       "      <th>increase</th>\n",
       "      <th>date</th>\n",
       "      <th>release_text</th>\n",
       "    </tr>\n",
       "  </thead>\n",
       "  <tbody>\n",
       "    <tr>\n",
       "      <th>0</th>\n",
       "      <td>January</td>\n",
       "      <td>2006</td>\n",
       "      <td>0.03</td>\n",
       "      <td>True</td>\n",
       "      <td>January 31, 2006</td>\n",
       "      <td>The Federal Open Market Committee decided toda...</td>\n",
       "    </tr>\n",
       "    <tr>\n",
       "      <th>1</th>\n",
       "      <td>February</td>\n",
       "      <td>2006</td>\n",
       "      <td>0.05</td>\n",
       "      <td>True</td>\n",
       "      <td>January 31, 2006</td>\n",
       "      <td>The Federal Open Market Committee decided toda...</td>\n",
       "    </tr>\n",
       "    <tr>\n",
       "      <th>2</th>\n",
       "      <td>March</td>\n",
       "      <td>2006</td>\n",
       "      <td>0.02</td>\n",
       "      <td>True</td>\n",
       "      <td>March 28, 2006</td>\n",
       "      <td>The Federal Open Market Committee decided toda...</td>\n",
       "    </tr>\n",
       "    <tr>\n",
       "      <th>3</th>\n",
       "      <td>April</td>\n",
       "      <td>2006</td>\n",
       "      <td>0.04</td>\n",
       "      <td>True</td>\n",
       "      <td>March 28, 2006</td>\n",
       "      <td>The Federal Open Market Committee decided toda...</td>\n",
       "    </tr>\n",
       "    <tr>\n",
       "      <th>4</th>\n",
       "      <td>May</td>\n",
       "      <td>2006</td>\n",
       "      <td>0.03</td>\n",
       "      <td>True</td>\n",
       "      <td>May 10, 2006</td>\n",
       "      <td>The Federal Open Market Committee decided toda...</td>\n",
       "    </tr>\n",
       "  </tbody>\n",
       "</table>\n",
       "</div>"
      ],
      "text/plain": [
       "      month  year  Change  increase              date  \\\n",
       "0   January  2006    0.03      True  January 31, 2006   \n",
       "1  February  2006    0.05      True  January 31, 2006   \n",
       "2     March  2006    0.02      True    March 28, 2006   \n",
       "3     April  2006    0.04      True    March 28, 2006   \n",
       "4       May  2006    0.03      True      May 10, 2006   \n",
       "\n",
       "                                        release_text  \n",
       "0  The Federal Open Market Committee decided toda...  \n",
       "1  The Federal Open Market Committee decided toda...  \n",
       "2  The Federal Open Market Committee decided toda...  \n",
       "3  The Federal Open Market Committee decided toda...  \n",
       "4  The Federal Open Market Committee decided toda...  "
      ]
     },
     "execution_count": 78,
     "metadata": {},
     "output_type": "execute_result"
    }
   ],
   "source": [
    "releaserates_df.head()"
   ]
  },
  {
   "cell_type": "markdown",
   "metadata": {},
   "source": [
    "Now text processing using `nltk`."
   ]
  },
  {
   "cell_type": "code",
   "execution_count": 5,
   "metadata": {
    "collapsed": true
   },
   "outputs": [],
   "source": [
    "releaserates_df = pd.read_csv('releaserates_df.csv', index_col=0)"
   ]
  },
  {
   "cell_type": "code",
   "execution_count": 6,
   "metadata": {
    "collapsed": false
   },
   "outputs": [
    {
     "data": {
      "text/html": [
       "<div>\n",
       "<style scoped>\n",
       "    .dataframe tbody tr th:only-of-type {\n",
       "        vertical-align: middle;\n",
       "    }\n",
       "\n",
       "    .dataframe tbody tr th {\n",
       "        vertical-align: top;\n",
       "    }\n",
       "\n",
       "    .dataframe thead th {\n",
       "        text-align: right;\n",
       "    }\n",
       "</style>\n",
       "<table border=\"1\" class=\"dataframe\">\n",
       "  <thead>\n",
       "    <tr style=\"text-align: right;\">\n",
       "      <th></th>\n",
       "      <th>month</th>\n",
       "      <th>year</th>\n",
       "      <th>Change</th>\n",
       "      <th>increase</th>\n",
       "      <th>date</th>\n",
       "      <th>release_text</th>\n",
       "    </tr>\n",
       "  </thead>\n",
       "  <tbody>\n",
       "    <tr>\n",
       "      <th>0</th>\n",
       "      <td>January</td>\n",
       "      <td>2006</td>\n",
       "      <td>0.03</td>\n",
       "      <td>True</td>\n",
       "      <td>January 31, 2006</td>\n",
       "      <td>The Federal Open Market Committee decided toda...</td>\n",
       "    </tr>\n",
       "    <tr>\n",
       "      <th>1</th>\n",
       "      <td>February</td>\n",
       "      <td>2006</td>\n",
       "      <td>0.05</td>\n",
       "      <td>True</td>\n",
       "      <td>January 31, 2006</td>\n",
       "      <td>The Federal Open Market Committee decided toda...</td>\n",
       "    </tr>\n",
       "    <tr>\n",
       "      <th>2</th>\n",
       "      <td>March</td>\n",
       "      <td>2006</td>\n",
       "      <td>0.02</td>\n",
       "      <td>True</td>\n",
       "      <td>March 28, 2006</td>\n",
       "      <td>The Federal Open Market Committee decided toda...</td>\n",
       "    </tr>\n",
       "    <tr>\n",
       "      <th>3</th>\n",
       "      <td>April</td>\n",
       "      <td>2006</td>\n",
       "      <td>0.04</td>\n",
       "      <td>True</td>\n",
       "      <td>March 28, 2006</td>\n",
       "      <td>The Federal Open Market Committee decided toda...</td>\n",
       "    </tr>\n",
       "    <tr>\n",
       "      <th>4</th>\n",
       "      <td>May</td>\n",
       "      <td>2006</td>\n",
       "      <td>0.03</td>\n",
       "      <td>True</td>\n",
       "      <td>May 10, 2006</td>\n",
       "      <td>The Federal Open Market Committee decided toda...</td>\n",
       "    </tr>\n",
       "  </tbody>\n",
       "</table>\n",
       "</div>"
      ],
      "text/plain": [
       "      month  year  Change  increase              date  \\\n",
       "0   January  2006    0.03      True  January 31, 2006   \n",
       "1  February  2006    0.05      True  January 31, 2006   \n",
       "2     March  2006    0.02      True    March 28, 2006   \n",
       "3     April  2006    0.04      True    March 28, 2006   \n",
       "4       May  2006    0.03      True      May 10, 2006   \n",
       "\n",
       "                                        release_text  \n",
       "0  The Federal Open Market Committee decided toda...  \n",
       "1  The Federal Open Market Committee decided toda...  \n",
       "2  The Federal Open Market Committee decided toda...  \n",
       "3  The Federal Open Market Committee decided toda...  \n",
       "4  The Federal Open Market Committee decided toda...  "
      ]
     },
     "execution_count": 6,
     "metadata": {},
     "output_type": "execute_result"
    }
   ],
   "source": [
    "releaserates_df.head()"
   ]
  },
  {
   "cell_type": "markdown",
   "metadata": {},
   "source": [
    "### LOGISTIC REGRESSION"
   ]
  },
  {
   "cell_type": "markdown",
   "metadata": {},
   "source": [
    "First, we try a Logistic Regression using PCA on tf-idf vectors."
   ]
  },
  {
   "cell_type": "code",
   "execution_count": 85,
   "metadata": {
    "collapsed": true
   },
   "outputs": [],
   "source": [
    "x_train, x_test, y_train, y_test = train_test_split(releaserates_df['release_text'], releaserates_df['increase'], test_size = .40, random_state = 42)"
   ]
  },
  {
   "cell_type": "code",
   "execution_count": 86,
   "metadata": {
    "collapsed": true
   },
   "outputs": [],
   "source": [
    "releaseTFVectorizer = sklearn.feature_extraction.text.TfidfVectorizer(max_df=0.5, min_df=3, stop_words='english', norm='l2')"
   ]
  },
  {
   "cell_type": "code",
   "execution_count": 87,
   "metadata": {
    "collapsed": true
   },
   "outputs": [],
   "source": [
    "releaseTFVects = releaseTFVectorizer.fit_transform(x_train)"
   ]
  },
  {
   "cell_type": "markdown",
   "metadata": {},
   "source": [
    "If interested in the scores assigned to words:"
   ]
  },
  {
   "cell_type": "code",
   "execution_count": 88,
   "metadata": {
    "collapsed": true
   },
   "outputs": [],
   "source": [
    "#sorted(list(zip(releaseTFVectorizer.vocabulary_.keys(), releaseTFVects.data)), key=lambda x: x[1], reverse=True)"
   ]
  },
  {
   "cell_type": "code",
   "execution_count": 89,
   "metadata": {
    "collapsed": true
   },
   "outputs": [],
   "source": [
    "PCA = decomposition.PCA\n",
    "pca = PCA().fit(releaseTFVects.toarray())\n",
    "reduced_data = pca.transform(releaseTFVects.toarray())"
   ]
  },
  {
   "cell_type": "markdown",
   "metadata": {},
   "source": [
    "A Scree Plot indicating the proportion of variance explained by the first $x$ principal components."
   ]
  },
  {
   "cell_type": "code",
   "execution_count": 90,
   "metadata": {
    "collapsed": false
   },
   "outputs": [
    {
     "data": {
      "image/png": "[encoded data removed]",
      "text/plain": [
       "<matplotlib.figure.Figure at 0x1150c64a8>"
      ]
     },
     "metadata": {},
     "output_type": "display_data"
    }
   ],
   "source": [
    "n = releaseTFVects.shape[0]\n",
    "fig = plt.figure(figsize=(12,5))\n",
    "ax1 = fig.add_subplot(121)\n",
    "eigen_vals = np.arange(n) + 1\n",
    "ax1.plot(eigen_vals, pca.explained_variance_ratio_, 'ro-', linewidth=2)\n",
    "ax1.set_title('Scree Plot')\n",
    "ax1.set_xlabel('Principal Component')\n",
    "ax1.set_ylabel('Proportion of Explained Variance')\n",
    "\n",
    "ax2 = fig.add_subplot(122)\n",
    "eigen_vals = np.arange(20) + 1\n",
    "ax2.plot(eigen_vals, pca.explained_variance_ratio_[:20], 'ro-', linewidth=2)\n",
    "ax2.set_title('Scree Plot (First 20 Principal Components)')\n",
    "ax2.set_xlabel('Principal Component')\n",
    "ax2.set_ylabel('Proportion of Explained Variance')\n",
    "plt.show()"
   ]
  },
  {
   "cell_type": "markdown",
   "metadata": {},
   "source": [
    "We'll first try a Logistic Regression using the first 10 principal components as regressors."
   ]
  },
  {
   "cell_type": "code",
   "execution_count": 91,
   "metadata": {
    "collapsed": true
   },
   "outputs": [],
   "source": [
    "X = reduced_data[:, :10]\n",
    "Y = np.array([int(label) for label in y_train])"
   ]
  },
  {
   "cell_type": "code",
   "execution_count": 92,
   "metadata": {
    "collapsed": false
   },
   "outputs": [
    {
     "data": {
      "text/plain": [
       "LogisticRegression(C=1.0, class_weight=None, dual=False, fit_intercept=True,\n",
       "          intercept_scaling=1, max_iter=100, multi_class='ovr', n_jobs=1,\n",
       "          penalty='l2', random_state=None, solver='liblinear', tol=0.0001,\n",
       "          verbose=0, warm_start=False)"
      ]
     },
     "execution_count": 92,
     "metadata": {},
     "output_type": "execute_result"
    }
   ],
   "source": [
    "logistic = linear_model.LogisticRegression()\n",
    "logistic.fit(X, Y)"
   ]
  },
  {
   "cell_type": "code",
   "execution_count": 93,
   "metadata": {
    "collapsed": false
   },
   "outputs": [
    {
     "name": "stdout",
     "output_type": "stream",
     "text": [
      "For training set: 0.7444444444444445\n"
     ]
    }
   ],
   "source": [
    "print('For training set: {}'.format(logistic.score(X,Y)))"
   ]
  },
  {
   "cell_type": "code",
   "execution_count": 94,
   "metadata": {
    "collapsed": false
   },
   "outputs": [
    {
     "name": "stdout",
     "output_type": "stream",
     "text": [
      "For testing set: 0.6\n"
     ]
    }
   ],
   "source": [
    "releaseTFVects_test = releaseTFVectorizer.transform(x_test)\n",
    "reduced_data_test = pca.transform(releaseTFVects_test.toarray())\n",
    "X_test = reduced_data_test[:, :10]\n",
    "Y_test = np.array([int(label) for label in y_test])\n",
    "print('For testing set: {}'.format(logistic.score(X_test, Y_test)))"
   ]
  },
  {
   "cell_type": "markdown",
   "metadata": {},
   "source": [
    "Not so good..."
   ]
  },
  {
   "cell_type": "markdown",
   "metadata": {},
   "source": [
    "How about 21 principal components? (Seems like a reasonable knee in the scree plot)"
   ]
  },
  {
   "cell_type": "code",
   "execution_count": 95,
   "metadata": {
    "collapsed": true
   },
   "outputs": [],
   "source": [
    "X = reduced_data[:, :21]\n",
    "Y = np.array([int(label) for label in y_train])"
   ]
  },
  {
   "cell_type": "code",
   "execution_count": 96,
   "metadata": {
    "collapsed": false
   },
   "outputs": [
    {
     "name": "stdout",
     "output_type": "stream",
     "text": [
      "For training set: 0.8111111111111111\n"
     ]
    }
   ],
   "source": [
    "logistic = linear_model.LogisticRegression()\n",
    "logistic.fit(X, Y)\n",
    "print('For training set: {}'.format(logistic.score(X,Y)))"
   ]
  },
  {
   "cell_type": "code",
   "execution_count": 97,
   "metadata": {
    "collapsed": false
   },
   "outputs": [
    {
     "name": "stdout",
     "output_type": "stream",
     "text": [
      "For testing set: 0.6166666666666667\n"
     ]
    }
   ],
   "source": [
    "releaseTFVects_test = releaseTFVectorizer.transform(x_test)\n",
    "reduced_data_test = pca.transform(releaseTFVects_test.toarray())\n",
    "X_test = reduced_data_test[:, :21]\n",
    "Y_test = np.array([int(label) for label in y_test])\n",
    "print('For testing set: {}'.format(logistic.score(X_test, Y_test)))"
   ]
  },
  {
   "cell_type": "markdown",
   "metadata": {},
   "source": [
    "After this point, more components doesn't result in much of an increase in predictive power. But, this still isn't great. To solve this problem, we should try different classifying algorithms."
   ]
  },
  {
   "cell_type": "markdown",
   "metadata": {},
   "source": [
    "### NAIVE BAYES"
   ]
  },
  {
   "cell_type": "code",
   "execution_count": 246,
   "metadata": {
    "collapsed": false
   },
   "outputs": [
    {
     "data": {
      "text/html": [
       "<div>\n",
       "<style scoped>\n",
       "    .dataframe tbody tr th:only-of-type {\n",
       "        vertical-align: middle;\n",
       "    }\n",
       "\n",
       "    .dataframe tbody tr th {\n",
       "        vertical-align: top;\n",
       "    }\n",
       "\n",
       "    .dataframe thead th {\n",
       "        text-align: right;\n",
       "    }\n",
       "</style>\n",
       "<table border=\"1\" class=\"dataframe\">\n",
       "  <thead>\n",
       "    <tr style=\"text-align: right;\">\n",
       "      <th></th>\n",
       "      <th>month</th>\n",
       "      <th>year</th>\n",
       "      <th>Change</th>\n",
       "      <th>increase</th>\n",
       "      <th>date</th>\n",
       "      <th>release_text</th>\n",
       "    </tr>\n",
       "  </thead>\n",
       "  <tbody>\n",
       "    <tr>\n",
       "      <th>125</th>\n",
       "      <td>January</td>\n",
       "      <td>2016</td>\n",
       "      <td>0.42</td>\n",
       "      <td>True</td>\n",
       "      <td>January 27, 2016</td>\n",
       "      <td>Information received since the Federal Open Ma...</td>\n",
       "    </tr>\n",
       "    <tr>\n",
       "      <th>126</th>\n",
       "      <td>February</td>\n",
       "      <td>2016</td>\n",
       "      <td>0.12</td>\n",
       "      <td>True</td>\n",
       "      <td>January 27, 2016</td>\n",
       "      <td>Information received since the Federal Open Ma...</td>\n",
       "    </tr>\n",
       "    <tr>\n",
       "      <th>127</th>\n",
       "      <td>March</td>\n",
       "      <td>2016</td>\n",
       "      <td>-0.05</td>\n",
       "      <td>False</td>\n",
       "      <td>March 16, 2016</td>\n",
       "      <td>Information received since the Federal Open Ma...</td>\n",
       "    </tr>\n",
       "    <tr>\n",
       "      <th>128</th>\n",
       "      <td>April</td>\n",
       "      <td>2016</td>\n",
       "      <td>0.03</td>\n",
       "      <td>True</td>\n",
       "      <td>April 27, 2016</td>\n",
       "      <td>Information received since the Federal Open Ma...</td>\n",
       "    </tr>\n",
       "    <tr>\n",
       "      <th>129</th>\n",
       "      <td>May</td>\n",
       "      <td>2016</td>\n",
       "      <td>0.00</td>\n",
       "      <td>False</td>\n",
       "      <td>April 27, 2016</td>\n",
       "      <td>Information received since the Federal Open Ma...</td>\n",
       "    </tr>\n",
       "    <tr>\n",
       "      <th>130</th>\n",
       "      <td>June</td>\n",
       "      <td>2016</td>\n",
       "      <td>0.03</td>\n",
       "      <td>True</td>\n",
       "      <td>June 15, 2016</td>\n",
       "      <td>Information received since the Federal Open Ma...</td>\n",
       "    </tr>\n",
       "    <tr>\n",
       "      <th>131</th>\n",
       "      <td>July</td>\n",
       "      <td>2016</td>\n",
       "      <td>0.03</td>\n",
       "      <td>True</td>\n",
       "      <td>July 27, 2016</td>\n",
       "      <td>Information received since the Federal Open Ma...</td>\n",
       "    </tr>\n",
       "    <tr>\n",
       "      <th>132</th>\n",
       "      <td>August</td>\n",
       "      <td>2016</td>\n",
       "      <td>0.03</td>\n",
       "      <td>True</td>\n",
       "      <td>July 27, 2016</td>\n",
       "      <td>Information received since the Federal Open Ma...</td>\n",
       "    </tr>\n",
       "    <tr>\n",
       "      <th>133</th>\n",
       "      <td>September</td>\n",
       "      <td>2016</td>\n",
       "      <td>0.00</td>\n",
       "      <td>False</td>\n",
       "      <td>September 21, 2016</td>\n",
       "      <td>Information received since the Federal Open Ma...</td>\n",
       "    </tr>\n",
       "    <tr>\n",
       "      <th>134</th>\n",
       "      <td>October</td>\n",
       "      <td>2016</td>\n",
       "      <td>0.00</td>\n",
       "      <td>False</td>\n",
       "      <td>September 21, 2016</td>\n",
       "      <td>Information received since the Federal Open Ma...</td>\n",
       "    </tr>\n",
       "    <tr>\n",
       "      <th>135</th>\n",
       "      <td>November</td>\n",
       "      <td>2016</td>\n",
       "      <td>0.02</td>\n",
       "      <td>True</td>\n",
       "      <td>November 02, 2016</td>\n",
       "      <td>Information received since the Federal Open Ma...</td>\n",
       "    </tr>\n",
       "    <tr>\n",
       "      <th>136</th>\n",
       "      <td>December</td>\n",
       "      <td>2016</td>\n",
       "      <td>0.32</td>\n",
       "      <td>True</td>\n",
       "      <td>December 14, 2016</td>\n",
       "      <td>Information received since the Federal Open Ma...</td>\n",
       "    </tr>\n",
       "    <tr>\n",
       "      <th>137</th>\n",
       "      <td>January</td>\n",
       "      <td>2017</td>\n",
       "      <td>0.20</td>\n",
       "      <td>True</td>\n",
       "      <td>December 14, 2016</td>\n",
       "      <td>Information received since the Federal Open Ma...</td>\n",
       "    </tr>\n",
       "    <tr>\n",
       "      <th>138</th>\n",
       "      <td>February</td>\n",
       "      <td>2017</td>\n",
       "      <td>0.02</td>\n",
       "      <td>True</td>\n",
       "      <td>February 01, 2017</td>\n",
       "      <td>Information received since the Federal Open Ma...</td>\n",
       "    </tr>\n",
       "    <tr>\n",
       "      <th>139</th>\n",
       "      <td>March</td>\n",
       "      <td>2017</td>\n",
       "      <td>0.20</td>\n",
       "      <td>True</td>\n",
       "      <td>March 15, 2017</td>\n",
       "      <td>Information received since the Federal Open Ma...</td>\n",
       "    </tr>\n",
       "    <tr>\n",
       "      <th>140</th>\n",
       "      <td>April</td>\n",
       "      <td>2017</td>\n",
       "      <td>0.14</td>\n",
       "      <td>True</td>\n",
       "      <td>March 15, 2017</td>\n",
       "      <td>Information received since the Federal Open Ma...</td>\n",
       "    </tr>\n",
       "    <tr>\n",
       "      <th>141</th>\n",
       "      <td>May</td>\n",
       "      <td>2017</td>\n",
       "      <td>0.01</td>\n",
       "      <td>True</td>\n",
       "      <td>May 03, 2017</td>\n",
       "      <td>Information received since the Federal Open Ma...</td>\n",
       "    </tr>\n",
       "    <tr>\n",
       "      <th>142</th>\n",
       "      <td>June</td>\n",
       "      <td>2017</td>\n",
       "      <td>0.14</td>\n",
       "      <td>True</td>\n",
       "      <td>June 14, 2017</td>\n",
       "      <td>Information received since the Federal Open Ma...</td>\n",
       "    </tr>\n",
       "    <tr>\n",
       "      <th>143</th>\n",
       "      <td>July</td>\n",
       "      <td>2017</td>\n",
       "      <td>0.11</td>\n",
       "      <td>True</td>\n",
       "      <td>July 26, 2017</td>\n",
       "      <td>Information received since the Federal Open Ma...</td>\n",
       "    </tr>\n",
       "    <tr>\n",
       "      <th>144</th>\n",
       "      <td>August</td>\n",
       "      <td>2017</td>\n",
       "      <td>0.01</td>\n",
       "      <td>True</td>\n",
       "      <td>July 26, 2017</td>\n",
       "      <td>Information received since the Federal Open Ma...</td>\n",
       "    </tr>\n",
       "    <tr>\n",
       "      <th>145</th>\n",
       "      <td>September</td>\n",
       "      <td>2017</td>\n",
       "      <td>-0.01</td>\n",
       "      <td>False</td>\n",
       "      <td>September 20, 2017</td>\n",
       "      <td>Information received since the Federal Open Ma...</td>\n",
       "    </tr>\n",
       "    <tr>\n",
       "      <th>146</th>\n",
       "      <td>October</td>\n",
       "      <td>2017</td>\n",
       "      <td>0.00</td>\n",
       "      <td>False</td>\n",
       "      <td>September 20, 2017</td>\n",
       "      <td>Information received since the Federal Open Ma...</td>\n",
       "    </tr>\n",
       "    <tr>\n",
       "      <th>147</th>\n",
       "      <td>November</td>\n",
       "      <td>2017</td>\n",
       "      <td>0.01</td>\n",
       "      <td>True</td>\n",
       "      <td>November 01, 2017</td>\n",
       "      <td>Information received since the Federal Open Ma...</td>\n",
       "    </tr>\n",
       "    <tr>\n",
       "      <th>148</th>\n",
       "      <td>December</td>\n",
       "      <td>2017</td>\n",
       "      <td>0.12</td>\n",
       "      <td>True</td>\n",
       "      <td>December 13, 2017</td>\n",
       "      <td>Information received since the Federal Open Ma...</td>\n",
       "    </tr>\n",
       "    <tr>\n",
       "      <th>149</th>\n",
       "      <td>January</td>\n",
       "      <td>2018</td>\n",
       "      <td>0.08</td>\n",
       "      <td>True</td>\n",
       "      <td>January 31, 2018</td>\n",
       "      <td>Information received since the Federal Open Ma...</td>\n",
       "    </tr>\n",
       "  </tbody>\n",
       "</table>\n",
       "</div>"
      ],
      "text/plain": [
       "         month  year  Change  increase                date  \\\n",
       "125    January  2016    0.42      True    January 27, 2016   \n",
       "126   February  2016    0.12      True    January 27, 2016   \n",
       "127      March  2016   -0.05     False      March 16, 2016   \n",
       "128      April  2016    0.03      True      April 27, 2016   \n",
       "129        May  2016    0.00     False      April 27, 2016   \n",
       "130       June  2016    0.03      True       June 15, 2016   \n",
       "131       July  2016    0.03      True       July 27, 2016   \n",
       "132     August  2016    0.03      True       July 27, 2016   \n",
       "133  September  2016    0.00     False  September 21, 2016   \n",
       "134    October  2016    0.00     False  September 21, 2016   \n",
       "135   November  2016    0.02      True   November 02, 2016   \n",
       "136   December  2016    0.32      True   December 14, 2016   \n",
       "137    January  2017    0.20      True   December 14, 2016   \n",
       "138   February  2017    0.02      True   February 01, 2017   \n",
       "139      March  2017    0.20      True      March 15, 2017   \n",
       "140      April  2017    0.14      True      March 15, 2017   \n",
       "141        May  2017    0.01      True        May 03, 2017   \n",
       "142       June  2017    0.14      True       June 14, 2017   \n",
       "143       July  2017    0.11      True       July 26, 2017   \n",
       "144     August  2017    0.01      True       July 26, 2017   \n",
       "145  September  2017   -0.01     False  September 20, 2017   \n",
       "146    October  2017    0.00     False  September 20, 2017   \n",
       "147   November  2017    0.01      True   November 01, 2017   \n",
       "148   December  2017    0.12      True   December 13, 2017   \n",
       "149    January  2018    0.08      True    January 31, 2018   \n",
       "\n",
       "                                          release_text  \n",
       "125  Information received since the Federal Open Ma...  \n",
       "126  Information received since the Federal Open Ma...  \n",
       "127  Information received since the Federal Open Ma...  \n",
       "128  Information received since the Federal Open Ma...  \n",
       "129  Information received since the Federal Open Ma...  \n",
       "130  Information received since the Federal Open Ma...  \n",
       "131  Information received since the Federal Open Ma...  \n",
       "132  Information received since the Federal Open Ma...  \n",
       "133  Information received since the Federal Open Ma...  \n",
       "134  Information received since the Federal Open Ma...  \n",
       "135  Information received since the Federal Open Ma...  \n",
       "136  Information received since the Federal Open Ma...  \n",
       "137  Information received since the Federal Open Ma...  \n",
       "138  Information received since the Federal Open Ma...  \n",
       "139  Information received since the Federal Open Ma...  \n",
       "140  Information received since the Federal Open Ma...  \n",
       "141  Information received since the Federal Open Ma...  \n",
       "142  Information received since the Federal Open Ma...  \n",
       "143  Information received since the Federal Open Ma...  \n",
       "144  Information received since the Federal Open Ma...  \n",
       "145  Information received since the Federal Open Ma...  \n",
       "146  Information received since the Federal Open Ma...  \n",
       "147  Information received since the Federal Open Ma...  \n",
       "148  Information received since the Federal Open Ma...  \n",
       "149  Information received since the Federal Open Ma...  "
      ]
     },
     "execution_count": 246,
     "metadata": {},
     "output_type": "execute_result"
    }
   ],
   "source": [
    "releaserates_df.iloc[125:]"
   ]
  },
  {
   "cell_type": "code",
   "execution_count": 247,
   "metadata": {
    "collapsed": true
   },
   "outputs": [],
   "source": [
    "#x_train, x_test, y_train, y_test = train_test_split(releaserates_df['release_text'], releaserates_df['increase'], test_size = .41, random_state = 42)\n",
    "#train_df = pd.DataFrame({'release_text':x_train, 'increase':y_train})\n",
    "#test_df = pd.DataFrame({'release_text':x_test, 'increase' : y_test})\n",
    "\n",
    "# settings for testing on releases after Jan 2017\n",
    "#train_df = releaserates_df.iloc[:137].copy()\n",
    "#test_df = releaserates_df.iloc[137:].copy()\n",
    "\n",
    "# settings for testing on releases after Jan 2016\n",
    "train_df = releaserates_df.iloc[:125].copy()\n",
    "test_df = releaserates_df.iloc[125:].copy()"
   ]
  },
  {
   "cell_type": "code",
   "execution_count": 249,
   "metadata": {
    "collapsed": false
   },
   "outputs": [],
   "source": [
    "clf = sklearn.naive_bayes.GaussianNB()\n",
    "TFVectorizer = sklearn.feature_extraction.text.TfidfVectorizer(max_df=15, stop_words='english', norm='l2')\n",
    "\n",
    "TFVects = TFVectorizer.fit_transform(train_df['release_text'])\n",
    "train_df['vect'] = [np.array(v).flatten() for v in TFVects.todense()]\n",
    "\n",
    "TFVects_test = TFVectorizer.transform(test_df['release_text'])\n",
    "test_df['vect'] = [np.array(v).flatten() for v in TFVects_test.todense()]"
   ]
  },
  {
   "cell_type": "code",
   "execution_count": 250,
   "metadata": {
    "collapsed": false
   },
   "outputs": [
    {
     "data": {
      "text/plain": [
       "BernoulliNB(alpha=1.0, binarize=0.0, class_prior=None, fit_prior=True)"
      ]
     },
     "execution_count": 250,
     "metadata": {},
     "output_type": "execute_result"
    }
   ],
   "source": [
    "naiveBayes = sklearn.naive_bayes.BernoulliNB()\n",
    "naiveBayes.fit(np.stack(train_df['vect'], axis=0), train_df['increase'])"
   ]
  },
  {
   "cell_type": "code",
   "execution_count": 251,
   "metadata": {
    "collapsed": false
   },
   "outputs": [
    {
     "name": "stdout",
     "output_type": "stream",
     "text": [
      "Training:\n",
      "0.864\n",
      "Testing:\n",
      "0.24\n"
     ]
    }
   ],
   "source": [
    "print(\"Training:\")\n",
    "print(naiveBayes.score(np.stack(train_df['vect'], axis=0), train_df['increase']))\n",
    "print(\"Testing:\")\n",
    "print(naiveBayes.score(np.stack(test_df['vect'], axis=0), test_df['increase']))"
   ]
  },
  {
   "cell_type": "markdown",
   "metadata": {},
   "source": [
    "### DECISION TREE"
   ]
  },
  {
   "cell_type": "code",
   "execution_count": 252,
   "metadata": {
    "collapsed": false
   },
   "outputs": [
    {
     "data": {
      "text/plain": [
       "DecisionTreeClassifier(class_weight=None, criterion='gini', max_depth=4,\n",
       "            max_features=None, max_leaf_nodes=None,\n",
       "            min_impurity_decrease=0.0, min_impurity_split=None,\n",
       "            min_samples_leaf=1, min_samples_split=2,\n",
       "            min_weight_fraction_leaf=0.0, presort=False, random_state=0,\n",
       "            splitter='best')"
      ]
     },
     "execution_count": 252,
     "metadata": {},
     "output_type": "execute_result"
    }
   ],
   "source": [
    "clf_tree = sklearn.tree.DecisionTreeClassifier(max_depth=4,random_state=0)\n",
    "clf_tree.fit(np.stack(train_df['vect'], axis =0), train_df['increase'])"
   ]
  },
  {
   "cell_type": "code",
   "execution_count": 253,
   "metadata": {
    "collapsed": false
   },
   "outputs": [
    {
     "name": "stdout",
     "output_type": "stream",
     "text": [
      "Training:\n",
      "0.768\n",
      "Testing:\n",
      "0.72\n"
     ]
    }
   ],
   "source": [
    "print(\"Training:\")\n",
    "print(sklearn.metrics.accuracy_score(train_df['increase'],clf_tree.predict(np.stack(train_df['vect'], axis = 0))))\n",
    "print(\"Testing:\")\n",
    "print(sklearn.metrics.accuracy_score(test_df['increase'],clf_tree.predict(np.stack(test_df['vect'], axis = 0))))"
   ]
  },
  {
   "cell_type": "markdown",
   "metadata": {},
   "source": [
    "### BAGGING"
   ]
  },
  {
   "cell_type": "code",
   "execution_count": 254,
   "metadata": {
    "collapsed": true
   },
   "outputs": [],
   "source": [
    "tree = sklearn.tree.DecisionTreeClassifier(max_depth=10) #Create an instance of our decision tree classifier.\n",
    "\n",
    "bag = sklearn.ensemble.BaggingClassifier(tree, n_estimators=100, max_samples=0.8, random_state=1) #Each tree uses up to 80% of the data"
   ]
  },
  {
   "cell_type": "code",
   "execution_count": 255,
   "metadata": {
    "collapsed": false
   },
   "outputs": [
    {
     "data": {
      "text/plain": [
       "BaggingClassifier(base_estimator=DecisionTreeClassifier(class_weight=None, criterion='gini', max_depth=10,\n",
       "            max_features=None, max_leaf_nodes=None,\n",
       "            min_impurity_decrease=0.0, min_impurity_split=None,\n",
       "            min_samples_leaf=1, min_samples_split=2,\n",
       "            min_weight_fraction_leaf=0.0, presort=False, random_state=None,\n",
       "            splitter='best'),\n",
       "         bootstrap=True, bootstrap_features=False, max_features=1.0,\n",
       "         max_samples=0.8, n_estimators=100, n_jobs=1, oob_score=False,\n",
       "         random_state=1, verbose=0, warm_start=False)"
      ]
     },
     "execution_count": 255,
     "metadata": {},
     "output_type": "execute_result"
    }
   ],
   "source": [
    "bag.fit(np.stack(train_df['vect'], axis =0), train_df['increase']) #Fit the bagged classifier"
   ]
  },
  {
   "cell_type": "code",
   "execution_count": 256,
   "metadata": {
    "collapsed": false
   },
   "outputs": [
    {
     "name": "stdout",
     "output_type": "stream",
     "text": [
      "Training:\n",
      "0.928\n",
      "Testing:\n",
      "0.2\n"
     ]
    }
   ],
   "source": [
    "print(\"Training:\")\n",
    "print(bag.score(np.stack(train_df['vect'], axis=0), train_df['increase']))\n",
    "print(\"Testing:\")\n",
    "print(bag.score(np.stack(test_df['vect'], axis=0), test_df['increase']))"
   ]
  },
  {
   "cell_type": "markdown",
   "metadata": {},
   "source": [
    "### KNN"
   ]
  },
  {
   "cell_type": "code",
   "execution_count": 257,
   "metadata": {
    "collapsed": true
   },
   "outputs": [],
   "source": [
    "n_neighbors = 15\n",
    "weights=\"uniform\"\n",
    "clf_knearest = sklearn.neighbors.KNeighborsClassifier(n_neighbors, weights=weights)"
   ]
  },
  {
   "cell_type": "code",
   "execution_count": 258,
   "metadata": {
    "collapsed": false
   },
   "outputs": [
    {
     "data": {
      "text/plain": [
       "KNeighborsClassifier(algorithm='auto', leaf_size=30, metric='minkowski',\n",
       "           metric_params=None, n_jobs=1, n_neighbors=15, p=2,\n",
       "           weights='uniform')"
      ]
     },
     "execution_count": 258,
     "metadata": {},
     "output_type": "execute_result"
    }
   ],
   "source": [
    "clf_knearest.fit(np.stack(train_df['vect'], axis = 0), train_df['increase'])"
   ]
  },
  {
   "cell_type": "code",
   "execution_count": 259,
   "metadata": {
    "collapsed": false
   },
   "outputs": [
    {
     "name": "stdout",
     "output_type": "stream",
     "text": [
      "Training: \n",
      "0.704\n",
      "Testing: \n",
      "0.24\n"
     ]
    }
   ],
   "source": [
    "print('Training: ')\n",
    "print(clf_knearest.score(np.stack(train_df['vect'], axis=0), train_df['increase']))\n",
    "print('Testing: ')\n",
    "print(clf_knearest.score(np.stack(test_df['vect'], axis=0), test_df['increase']))"
   ]
  },
  {
   "cell_type": "markdown",
   "metadata": {},
   "source": [
    "### SVM"
   ]
  },
  {
   "cell_type": "markdown",
   "metadata": {},
   "source": [
    "#### Linear"
   ]
  },
  {
   "cell_type": "code",
   "execution_count": 260,
   "metadata": {
    "collapsed": false
   },
   "outputs": [
    {
     "data": {
      "text/plain": [
       "SVC(C=1.0, cache_size=200, class_weight=None, coef0=0.0,\n",
       "  decision_function_shape='ovr', degree=3, gamma='auto', kernel='linear',\n",
       "  max_iter=-1, probability=False, random_state=None, shrinking=True,\n",
       "  tol=0.001, verbose=False)"
      ]
     },
     "execution_count": 260,
     "metadata": {},
     "output_type": "execute_result"
    }
   ],
   "source": [
    "clf_svm = sklearn.svm.SVC(kernel='linear', probability = False)\n",
    "clf_svm.fit(np.stack(train_df['vect'], axis=0), train_df['increase'])"
   ]
  },
  {
   "cell_type": "code",
   "execution_count": 261,
   "metadata": {
    "collapsed": false
   },
   "outputs": [
    {
     "name": "stdout",
     "output_type": "stream",
     "text": [
      "Training: \n",
      "0.88\n",
      "Testing: \n",
      "0.76\n"
     ]
    }
   ],
   "source": [
    "print('Training: ')\n",
    "print(clf_svm.score(np.stack(train_df['vect'], axis=0), train_df['increase']))\n",
    "print('Testing: ')\n",
    "print(clf_svm.score(np.stack(test_df['vect'], axis=0), test_df['increase']))"
   ]
  },
  {
   "cell_type": "markdown",
   "metadata": {},
   "source": [
    "#### Cubic"
   ]
  },
  {
   "cell_type": "code",
   "execution_count": 262,
   "metadata": {
    "collapsed": false
   },
   "outputs": [
    {
     "data": {
      "text/plain": [
       "SVC(C=1.0, cache_size=200, class_weight=None, coef0=0.0,\n",
       "  decision_function_shape='ovr', degree=3, gamma='auto', kernel='poly',\n",
       "  max_iter=-1, probability=False, random_state=None, shrinking=True,\n",
       "  tol=0.001, verbose=False)"
      ]
     },
     "execution_count": 262,
     "metadata": {},
     "output_type": "execute_result"
    }
   ],
   "source": [
    "clf_svm = sklearn.svm.SVC(kernel = 'poly', degree = 3, probability = False)\n",
    "clf_svm.fit(np.stack(train_df['vect'], axis=0), train_df['increase'])"
   ]
  },
  {
   "cell_type": "code",
   "execution_count": 263,
   "metadata": {
    "collapsed": false
   },
   "outputs": [
    {
     "name": "stdout",
     "output_type": "stream",
     "text": [
      "Training: \n",
      "0.544\n",
      "Testing: \n",
      "0.24\n"
     ]
    }
   ],
   "source": [
    "print('Training: ')\n",
    "print(clf_svm.score(np.stack(train_df['vect'], axis=0), train_df['increase']))\n",
    "print('Testing: ')\n",
    "print(clf_svm.score(np.stack(test_df['vect'], axis=0), test_df['increase']))"
   ]
  },
  {
   "cell_type": "markdown",
   "metadata": {},
   "source": [
    "### NEURAL NETS"
   ]
  },
  {
   "cell_type": "code",
   "execution_count": 264,
   "metadata": {
    "collapsed": false
   },
   "outputs": [
    {
     "name": "stderr",
     "output_type": "stream",
     "text": [
      "/Users/jgdenby/Library/Python/3.6/lib/python/site-packages/sklearn/neural_network/multilayer_perceptron.py:564: ConvergenceWarning: Stochastic Optimizer: Maximum iterations (200) reached and the optimization hasn't converged yet.\n",
      "  % self.max_iter, ConvergenceWarning)\n"
     ]
    },
    {
     "data": {
      "text/plain": [
       "MLPClassifier(activation='relu', alpha=0.0001, batch_size='auto', beta_1=0.9,\n",
       "       beta_2=0.999, early_stopping=False, epsilon=1e-08,\n",
       "       hidden_layer_sizes=(100,), learning_rate='constant',\n",
       "       learning_rate_init=0.001, max_iter=200, momentum=0.9,\n",
       "       nesterovs_momentum=True, power_t=0.5, random_state=None,\n",
       "       shuffle=True, solver='adam', tol=0.0001, validation_fraction=0.1,\n",
       "       verbose=False, warm_start=False)"
      ]
     },
     "execution_count": 264,
     "metadata": {},
     "output_type": "execute_result"
    }
   ],
   "source": [
    "clf_nn = sklearn.neural_network.MLPClassifier()\n",
    "clf_nn.fit(np.stack(train_df['vect'], axis=0), train_df['increase'])"
   ]
  },
  {
   "cell_type": "code",
   "execution_count": 265,
   "metadata": {
    "collapsed": false
   },
   "outputs": [
    {
     "name": "stdout",
     "output_type": "stream",
     "text": [
      "Training: \n",
      "0.936\n",
      "Testing: \n",
      "0.76\n"
     ]
    }
   ],
   "source": [
    "print('Training: ')\n",
    "print(clf_nn.score(np.stack(train_df['vect'], axis=0), train_df['increase']))\n",
    "print('Testing: ')\n",
    "print(clf_nn.score(np.stack(test_df['vect'], axis=0), test_df['increase']))"
   ]
  },
  {
   "cell_type": "code",
   "execution_count": null,
   "metadata": {
    "collapsed": true
   },
   "outputs": [],
   "source": []
  }
 ],
 "metadata": {
  "kernelspec": {
   "display_name": "Python 3",
   "language": "python",
   "name": "python3"
  },
  "language_info": {
   "codemirror_mode": {
    "name": "ipython",
    "version": 3
   },
   "file_extension": ".py",
   "mimetype": "text/x-python",
   "name": "python",
   "nbconvert_exporter": "python",
   "pygments_lexer": "ipython3",
   "version": "3.6.3"
  }
 },
 "nbformat": 4,
 "nbformat_minor": 2
}
